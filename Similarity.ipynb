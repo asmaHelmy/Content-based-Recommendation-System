{
 "cells": [
  {
   "cell_type": "markdown",
   "metadata": {},
   "source": [
    "# Content-based Recommendation System"
   ]
  },
  {
   "cell_type": "markdown",
   "metadata": {},
   "source": [
    "To do so, we will explore our courses' contents and try to find courses with similar contents to recommend to the user based on their interest.\n",
    "\n",
    "It may be done by many ways, we will explore a few and choose the one with the best results that satisfies our needs."
   ]
  },
  {
   "cell_type": "markdown",
   "metadata": {},
   "source": [
    "# Initial imports"
   ]
  },
  {
   "cell_type": "code",
   "execution_count": 1,
   "metadata": {
    "ExecuteTime": {
     "end_time": "2019-06-20T15:36:30.960477Z",
     "start_time": "2019-06-20T15:36:30.493023Z"
    },
    "scrolled": true
   },
   "outputs": [],
   "source": [
    "import pprint as pp\n",
    "import numpy as np\n",
    "import pandas as pd\n",
    "import matplotlib.pyplot as plt"
   ]
  },
  {
   "cell_type": "markdown",
   "metadata": {},
   "source": [
    "# Loading Data"
   ]
  },
  {
   "cell_type": "code",
   "execution_count": 2,
   "metadata": {
    "ExecuteTime": {
     "end_time": "2019-06-20T15:36:30.971405Z",
     "start_time": "2019-06-20T15:36:30.961938Z"
    }
   },
   "outputs": [],
   "source": [
    "df = pd.read_csv('content.csv')"
   ]
  },
  {
   "cell_type": "markdown",
   "metadata": {},
   "source": [
    "# Exploring Data"
   ]
  },
  {
   "cell_type": "code",
   "execution_count": 3,
   "metadata": {
    "ExecuteTime": {
     "end_time": "2019-06-20T15:36:31.053712Z",
     "start_time": "2019-06-20T15:36:30.973015Z"
    },
    "scrolled": true
   },
   "outputs": [
    {
     "data": {
      "text/html": [
       "<div>\n",
       "<style scoped>\n",
       "    .dataframe tbody tr th:only-of-type {\n",
       "        vertical-align: middle;\n",
       "    }\n",
       "\n",
       "    .dataframe tbody tr th {\n",
       "        vertical-align: top;\n",
       "    }\n",
       "\n",
       "    .dataframe thead th {\n",
       "        text-align: right;\n",
       "    }\n",
       "</style>\n",
       "<table border=\"1\" class=\"dataframe\">\n",
       "  <thead>\n",
       "    <tr style=\"text-align: right;\">\n",
       "      <th></th>\n",
       "      <th>Code</th>\n",
       "      <th>Name</th>\n",
       "      <th>Content</th>\n",
       "    </tr>\n",
       "  </thead>\n",
       "  <tbody>\n",
       "    <tr>\n",
       "      <th>0</th>\n",
       "      <td>M150</td>\n",
       "      <td>Programming and Computer Applications</td>\n",
       "      <td>FORTRAN Programming language: Constants and va...</td>\n",
       "    </tr>\n",
       "    <tr>\n",
       "      <th>1</th>\n",
       "      <td>CS102</td>\n",
       "      <td>Computer Programming(1)</td>\n",
       "      <td>Problem-solving strategies, Debugging strategi...</td>\n",
       "    </tr>\n",
       "    <tr>\n",
       "      <th>2</th>\n",
       "      <td>CS201</td>\n",
       "      <td>Computer Programming(2)</td>\n",
       "      <td>Functions and parameter passing, Simple I/O, E...</td>\n",
       "    </tr>\n",
       "    <tr>\n",
       "      <th>3</th>\n",
       "      <td>CS202</td>\n",
       "      <td>Data Structures and File Processing</td>\n",
       "      <td>Specification and representation of the elemen...</td>\n",
       "    </tr>\n",
       "    <tr>\n",
       "      <th>4</th>\n",
       "      <td>CS203</td>\n",
       "      <td>Discrete Structures</td>\n",
       "      <td>Functions: Surjection’s, Injections, Inverses,...</td>\n",
       "    </tr>\n",
       "    <tr>\n",
       "      <th>5</th>\n",
       "      <td>CS204</td>\n",
       "      <td>Theory of Computation</td>\n",
       "      <td>Deterministic finite automata (DFA) and regula...</td>\n",
       "    </tr>\n",
       "    <tr>\n",
       "      <th>6</th>\n",
       "      <td>CS206</td>\n",
       "      <td>Advanced Programming</td>\n",
       "      <td>Object-oriented design, Classes, Subclasses an...</td>\n",
       "    </tr>\n",
       "    <tr>\n",
       "      <th>7</th>\n",
       "      <td>CS208</td>\n",
       "      <td>Computer Architecture and Organization</td>\n",
       "      <td>Simple building blocks (logic gates, flip-flop...</td>\n",
       "    </tr>\n",
       "    <tr>\n",
       "      <th>8</th>\n",
       "      <td>CS210</td>\n",
       "      <td>Network and Internet Programming</td>\n",
       "      <td>Encoding, Framing, Error detection, Ethernet, ...</td>\n",
       "    </tr>\n",
       "    <tr>\n",
       "      <th>9</th>\n",
       "      <td>CS212</td>\n",
       "      <td>Concepts of Programming Language</td>\n",
       "      <td>Scheme, Expression evaluation and a simple mod...</td>\n",
       "    </tr>\n",
       "    <tr>\n",
       "      <th>10</th>\n",
       "      <td>CS214</td>\n",
       "      <td>System Simulation and Modeling</td>\n",
       "      <td>Types of systems, Types of models, Discrete an...</td>\n",
       "    </tr>\n",
       "    <tr>\n",
       "      <th>11</th>\n",
       "      <td>CS301</td>\n",
       "      <td>Operating Systems and System Programming</td>\n",
       "      <td>Structuring methods and the layered model, Evo...</td>\n",
       "    </tr>\n",
       "    <tr>\n",
       "      <th>12</th>\n",
       "      <td>CS302</td>\n",
       "      <td>Database Management Systems</td>\n",
       "      <td>Entity-relationship (E/R) models, E/R model de...</td>\n",
       "    </tr>\n",
       "    <tr>\n",
       "      <th>13</th>\n",
       "      <td>CS303</td>\n",
       "      <td>Artificial Intelligence</td>\n",
       "      <td>Definitions of intelligent systems, Optimality...</td>\n",
       "    </tr>\n",
       "    <tr>\n",
       "      <th>14</th>\n",
       "      <td>CS304</td>\n",
       "      <td>Computer Network Architecture and Protocols</td>\n",
       "      <td>OSI and TCP/IP layers, Internet protocol suite...</td>\n",
       "    </tr>\n",
       "    <tr>\n",
       "      <th>15</th>\n",
       "      <td>CS305</td>\n",
       "      <td>Object-Oriented Software Design and Construct</td>\n",
       "      <td>Design paradigms, OO design, Class basics, Ide...</td>\n",
       "    </tr>\n",
       "    <tr>\n",
       "      <th>16</th>\n",
       "      <td>CS306</td>\n",
       "      <td>Logic and Automated Reasoning</td>\n",
       "      <td>Elementary set theory, Propositional logic, Pr...</td>\n",
       "    </tr>\n",
       "    <tr>\n",
       "      <th>17</th>\n",
       "      <td>CS307</td>\n",
       "      <td>Data and Algorithms Analysis</td>\n",
       "      <td>Problems, Complexity, Analysis; Asymptotics, R...</td>\n",
       "    </tr>\n",
       "    <tr>\n",
       "      <th>18</th>\n",
       "      <td>CS308</td>\n",
       "      <td>Software Engineering for Web Applications</td>\n",
       "      <td>Principles of web-based applications, Summary ...</td>\n",
       "    </tr>\n",
       "    <tr>\n",
       "      <th>19</th>\n",
       "      <td>CS309</td>\n",
       "      <td>Computing Algorithms</td>\n",
       "      <td>Complexity of algorithms, Asymptotic notation,...</td>\n",
       "    </tr>\n",
       "    <tr>\n",
       "      <th>20</th>\n",
       "      <td>CS310</td>\n",
       "      <td>Computability and Formal Languages</td>\n",
       "      <td>Strings and languages, Regular languages, Dete...</td>\n",
       "    </tr>\n",
       "    <tr>\n",
       "      <th>21</th>\n",
       "      <td>CS311</td>\n",
       "      <td>Intermediate Software Design and Engineering</td>\n",
       "      <td>Socio-technical systems, Software processes, S...</td>\n",
       "    </tr>\n",
       "    <tr>\n",
       "      <th>22</th>\n",
       "      <td>CS312</td>\n",
       "      <td>Software Design and Quality</td>\n",
       "      <td>Critical aspects of the software lifecycle, Qu...</td>\n",
       "    </tr>\n",
       "    <tr>\n",
       "      <th>23</th>\n",
       "      <td>CS313</td>\n",
       "      <td>Introduction to Human-Computer Interaction (HCI)</td>\n",
       "      <td>Mapping, Affordances, Constraints, Seven stage...</td>\n",
       "    </tr>\n",
       "    <tr>\n",
       "      <th>24</th>\n",
       "      <td>CS314</td>\n",
       "      <td>Parallel Computation</td>\n",
       "      <td>Parallel configurations and paradigms, Speedup...</td>\n",
       "    </tr>\n",
       "    <tr>\n",
       "      <th>25</th>\n",
       "      <td>CS315</td>\n",
       "      <td>Microprocessors</td>\n",
       "      <td>Microprocessors and microcomputers, Real-mode ...</td>\n",
       "    </tr>\n",
       "    <tr>\n",
       "      <th>26</th>\n",
       "      <td>CS316</td>\n",
       "      <td>Compilers Design</td>\n",
       "      <td>Compiler functions, Language elements, BNF gra...</td>\n",
       "    </tr>\n",
       "    <tr>\n",
       "      <th>27</th>\n",
       "      <td>CS317</td>\n",
       "      <td>Data Compression</td>\n",
       "      <td>Document databases, Compression models: Static...</td>\n",
       "    </tr>\n",
       "    <tr>\n",
       "      <th>28</th>\n",
       "      <td>CS318</td>\n",
       "      <td>Algorithms in Bioinformatics</td>\n",
       "      <td>Exact matching: First algorithms; Fundamental ...</td>\n",
       "    </tr>\n",
       "    <tr>\n",
       "      <th>29</th>\n",
       "      <td>CS319</td>\n",
       "      <td>Tools for e-learning Education</td>\n",
       "      <td>Overview of principles and tools used in e-Lea...</td>\n",
       "    </tr>\n",
       "    <tr>\n",
       "      <th>30</th>\n",
       "      <td>CS320</td>\n",
       "      <td>Theory of Algorithms</td>\n",
       "      <td>Closest pair, Analysis techniques, Asymptotics...</td>\n",
       "    </tr>\n",
       "    <tr>\n",
       "      <th>31</th>\n",
       "      <td>CS321</td>\n",
       "      <td>Online Multimedia and Information Access</td>\n",
       "      <td>Organizing multimedia content, Physical storag...</td>\n",
       "    </tr>\n",
       "    <tr>\n",
       "      <th>32</th>\n",
       "      <td>CS322</td>\n",
       "      <td>Usability Models and Theories of HCI</td>\n",
       "      <td>Computer systems usability, Theoretical founda...</td>\n",
       "    </tr>\n",
       "    <tr>\n",
       "      <th>33</th>\n",
       "      <td>CS323</td>\n",
       "      <td>Information Storage and Retrieval</td>\n",
       "      <td>Basic principles and tools for analysis and re...</td>\n",
       "    </tr>\n",
       "    <tr>\n",
       "      <th>34</th>\n",
       "      <td>CS324</td>\n",
       "      <td>Machine Learning</td>\n",
       "      <td>Concept learning, Classification and classifie...</td>\n",
       "    </tr>\n",
       "    <tr>\n",
       "      <th>35</th>\n",
       "      <td>CS401</td>\n",
       "      <td>Computer Graphics</td>\n",
       "      <td>Raster and vector graphics system, Video displ...</td>\n",
       "    </tr>\n",
       "    <tr>\n",
       "      <th>36</th>\n",
       "      <td>CS403</td>\n",
       "      <td>Distributed Systems</td>\n",
       "      <td>Basic distributed systems architecture, Hardwa...</td>\n",
       "    </tr>\n",
       "    <tr>\n",
       "      <th>37</th>\n",
       "      <td>CS404</td>\n",
       "      <td>Mathematical Methods for Robotics and Vision</td>\n",
       "      <td>Sources and measure of numerical errors, Accur...</td>\n",
       "    </tr>\n",
       "    <tr>\n",
       "      <th>38</th>\n",
       "      <td>CS405</td>\n",
       "      <td>Computer and Information Security</td>\n",
       "      <td>Introduction to the protection of computer sys...</td>\n",
       "    </tr>\n",
       "    <tr>\n",
       "      <th>39</th>\n",
       "      <td>CS406</td>\n",
       "      <td>Virtual Environment</td>\n",
       "      <td>Basic viewing and interrogation functions for ...</td>\n",
       "    </tr>\n",
       "    <tr>\n",
       "      <th>40</th>\n",
       "      <td>CS407</td>\n",
       "      <td>System Analysis and Design</td>\n",
       "      <td>Types of information systems, Information syst...</td>\n",
       "    </tr>\n",
       "    <tr>\n",
       "      <th>41</th>\n",
       "      <td>CS408</td>\n",
       "      <td>Digital Image Processing</td>\n",
       "      <td>Visual perception, Sampling and quantization, ...</td>\n",
       "    </tr>\n",
       "    <tr>\n",
       "      <th>42</th>\n",
       "      <td>CS409</td>\n",
       "      <td>Digital Libraries</td>\n",
       "      <td>Foundations, Search, Retrieval, Resource disco...</td>\n",
       "    </tr>\n",
       "    <tr>\n",
       "      <th>43</th>\n",
       "      <td>CS411</td>\n",
       "      <td>Data Mining</td>\n",
       "      <td>Basic concepts behind data mining, Data mining...</td>\n",
       "    </tr>\n",
       "  </tbody>\n",
       "</table>\n",
       "</div>"
      ],
      "text/plain": [
       "      Code                                              Name  \\\n",
       "0     M150             Programming and Computer Applications   \n",
       "1   CS102                            Computer Programming(1)   \n",
       "2   CS201                            Computer Programming(2)   \n",
       "3    CS202               Data Structures and File Processing   \n",
       "4    CS203                               Discrete Structures   \n",
       "5    CS204                             Theory of Computation   \n",
       "6    CS206                              Advanced Programming   \n",
       "7    CS208            Computer Architecture and Organization   \n",
       "8    CS210                  Network and Internet Programming   \n",
       "9    CS212                  Concepts of Programming Language   \n",
       "10   CS214                    System Simulation and Modeling   \n",
       "11   CS301          Operating Systems and System Programming   \n",
       "12   CS302                       Database Management Systems   \n",
       "13   CS303                           Artificial Intelligence   \n",
       "14   CS304       Computer Network Architecture and Protocols   \n",
       "15   CS305     Object-Oriented Software Design and Construct   \n",
       "16   CS306                     Logic and Automated Reasoning   \n",
       "17   CS307                      Data and Algorithms Analysis   \n",
       "18   CS308         Software Engineering for Web Applications   \n",
       "19   CS309                              Computing Algorithms   \n",
       "20   CS310                Computability and Formal Languages   \n",
       "21   CS311      Intermediate Software Design and Engineering   \n",
       "22   CS312                       Software Design and Quality   \n",
       "23   CS313  Introduction to Human-Computer Interaction (HCI)   \n",
       "24   CS314                              Parallel Computation   \n",
       "25   CS315                                   Microprocessors   \n",
       "26   CS316                                  Compilers Design   \n",
       "27   CS317                                  Data Compression   \n",
       "28   CS318                      Algorithms in Bioinformatics   \n",
       "29   CS319                    Tools for e-learning Education   \n",
       "30   CS320                              Theory of Algorithms   \n",
       "31   CS321          Online Multimedia and Information Access   \n",
       "32   CS322              Usability Models and Theories of HCI   \n",
       "33   CS323                 Information Storage and Retrieval   \n",
       "34   CS324                                  Machine Learning   \n",
       "35   CS401                                 Computer Graphics   \n",
       "36   CS403                               Distributed Systems   \n",
       "37   CS404      Mathematical Methods for Robotics and Vision   \n",
       "38   CS405                 Computer and Information Security   \n",
       "39   CS406                               Virtual Environment   \n",
       "40   CS407                        System Analysis and Design   \n",
       "41   CS408                          Digital Image Processing   \n",
       "42   CS409                                 Digital Libraries   \n",
       "43   CS411                                       Data Mining   \n",
       "\n",
       "                                              Content  \n",
       "0   FORTRAN Programming language: Constants and va...  \n",
       "1   Problem-solving strategies, Debugging strategi...  \n",
       "2   Functions and parameter passing, Simple I/O, E...  \n",
       "3   Specification and representation of the elemen...  \n",
       "4   Functions: Surjection’s, Injections, Inverses,...  \n",
       "5   Deterministic finite automata (DFA) and regula...  \n",
       "6   Object-oriented design, Classes, Subclasses an...  \n",
       "7   Simple building blocks (logic gates, flip-flop...  \n",
       "8   Encoding, Framing, Error detection, Ethernet, ...  \n",
       "9   Scheme, Expression evaluation and a simple mod...  \n",
       "10  Types of systems, Types of models, Discrete an...  \n",
       "11  Structuring methods and the layered model, Evo...  \n",
       "12  Entity-relationship (E/R) models, E/R model de...  \n",
       "13  Definitions of intelligent systems, Optimality...  \n",
       "14  OSI and TCP/IP layers, Internet protocol suite...  \n",
       "15  Design paradigms, OO design, Class basics, Ide...  \n",
       "16  Elementary set theory, Propositional logic, Pr...  \n",
       "17  Problems, Complexity, Analysis; Asymptotics, R...  \n",
       "18  Principles of web-based applications, Summary ...  \n",
       "19  Complexity of algorithms, Asymptotic notation,...  \n",
       "20  Strings and languages, Regular languages, Dete...  \n",
       "21  Socio-technical systems, Software processes, S...  \n",
       "22  Critical aspects of the software lifecycle, Qu...  \n",
       "23  Mapping, Affordances, Constraints, Seven stage...  \n",
       "24  Parallel configurations and paradigms, Speedup...  \n",
       "25  Microprocessors and microcomputers, Real-mode ...  \n",
       "26  Compiler functions, Language elements, BNF gra...  \n",
       "27  Document databases, Compression models: Static...  \n",
       "28  Exact matching: First algorithms; Fundamental ...  \n",
       "29  Overview of principles and tools used in e-Lea...  \n",
       "30  Closest pair, Analysis techniques, Asymptotics...  \n",
       "31  Organizing multimedia content, Physical storag...  \n",
       "32  Computer systems usability, Theoretical founda...  \n",
       "33  Basic principles and tools for analysis and re...  \n",
       "34  Concept learning, Classification and classifie...  \n",
       "35  Raster and vector graphics system, Video displ...  \n",
       "36  Basic distributed systems architecture, Hardwa...  \n",
       "37  Sources and measure of numerical errors, Accur...  \n",
       "38  Introduction to the protection of computer sys...  \n",
       "39  Basic viewing and interrogation functions for ...  \n",
       "40  Types of information systems, Information syst...  \n",
       "41  Visual perception, Sampling and quantization, ...  \n",
       "42  Foundations, Search, Retrieval, Resource disco...  \n",
       "43  Basic concepts behind data mining, Data mining...  "
      ]
     },
     "execution_count": 3,
     "metadata": {},
     "output_type": "execute_result"
    }
   ],
   "source": [
    "df"
   ]
  },
  {
   "cell_type": "code",
   "execution_count": 4,
   "metadata": {
    "ExecuteTime": {
     "end_time": "2019-06-20T15:36:31.115133Z",
     "start_time": "2019-06-20T15:36:31.055687Z"
    },
    "scrolled": true
   },
   "outputs": [
    {
     "data": {
      "text/html": [
       "<div>\n",
       "<style scoped>\n",
       "    .dataframe tbody tr th:only-of-type {\n",
       "        vertical-align: middle;\n",
       "    }\n",
       "\n",
       "    .dataframe tbody tr th {\n",
       "        vertical-align: top;\n",
       "    }\n",
       "\n",
       "    .dataframe thead th {\n",
       "        text-align: right;\n",
       "    }\n",
       "</style>\n",
       "<table border=\"1\" class=\"dataframe\">\n",
       "  <thead>\n",
       "    <tr style=\"text-align: right;\">\n",
       "      <th></th>\n",
       "      <th>Content</th>\n",
       "    </tr>\n",
       "  </thead>\n",
       "  <tbody>\n",
       "    <tr>\n",
       "      <th>0</th>\n",
       "      <td>FORTRAN Programming language: Constants and va...</td>\n",
       "    </tr>\n",
       "    <tr>\n",
       "      <th>1</th>\n",
       "      <td>Problem-solving strategies, Debugging strategi...</td>\n",
       "    </tr>\n",
       "    <tr>\n",
       "      <th>2</th>\n",
       "      <td>Functions and parameter passing, Simple I/O, E...</td>\n",
       "    </tr>\n",
       "    <tr>\n",
       "      <th>3</th>\n",
       "      <td>Specification and representation of the elemen...</td>\n",
       "    </tr>\n",
       "    <tr>\n",
       "      <th>4</th>\n",
       "      <td>Functions: Surjection’s, Injections, Inverses,...</td>\n",
       "    </tr>\n",
       "  </tbody>\n",
       "</table>\n",
       "</div>"
      ],
      "text/plain": [
       "                                             Content\n",
       "0  FORTRAN Programming language: Constants and va...\n",
       "1  Problem-solving strategies, Debugging strategi...\n",
       "2  Functions and parameter passing, Simple I/O, E...\n",
       "3  Specification and representation of the elemen...\n",
       "4  Functions: Surjection’s, Injections, Inverses,..."
      ]
     },
     "execution_count": 4,
     "metadata": {},
     "output_type": "execute_result"
    }
   ],
   "source": [
    "df[[\"Content\"]].head()"
   ]
  },
  {
   "cell_type": "code",
   "execution_count": 5,
   "metadata": {
    "ExecuteTime": {
     "end_time": "2019-06-20T15:36:31.432302Z",
     "start_time": "2019-06-20T15:36:31.116996Z"
    },
    "scrolled": true
   },
   "outputs": [
    {
     "data": {
      "text/html": [
       "<div>\n",
       "<style scoped>\n",
       "    .dataframe tbody tr th:only-of-type {\n",
       "        vertical-align: middle;\n",
       "    }\n",
       "\n",
       "    .dataframe tbody tr th {\n",
       "        vertical-align: top;\n",
       "    }\n",
       "\n",
       "    .dataframe thead th {\n",
       "        text-align: right;\n",
       "    }\n",
       "</style>\n",
       "<table border=\"1\" class=\"dataframe\">\n",
       "  <thead>\n",
       "    <tr style=\"text-align: right;\">\n",
       "      <th></th>\n",
       "      <th>Name</th>\n",
       "      <th>Content</th>\n",
       "    </tr>\n",
       "  </thead>\n",
       "  <tbody>\n",
       "    <tr>\n",
       "      <th>0</th>\n",
       "      <td>Programming and Computer Applications</td>\n",
       "      <td>FORTRAN Programming language: Constants and va...</td>\n",
       "    </tr>\n",
       "    <tr>\n",
       "      <th>1</th>\n",
       "      <td>Computer Programming(1)</td>\n",
       "      <td>Problem-solving strategies, Debugging strategi...</td>\n",
       "    </tr>\n",
       "    <tr>\n",
       "      <th>2</th>\n",
       "      <td>Computer Programming(2)</td>\n",
       "      <td>Functions and parameter passing, Simple I/O, E...</td>\n",
       "    </tr>\n",
       "    <tr>\n",
       "      <th>3</th>\n",
       "      <td>Data Structures and File Processing</td>\n",
       "      <td>Specification and representation of the elemen...</td>\n",
       "    </tr>\n",
       "    <tr>\n",
       "      <th>4</th>\n",
       "      <td>Discrete Structures</td>\n",
       "      <td>Functions: Surjection’s, Injections, Inverses,...</td>\n",
       "    </tr>\n",
       "  </tbody>\n",
       "</table>\n",
       "</div>"
      ],
      "text/plain": [
       "                                    Name  \\\n",
       "0  Programming and Computer Applications   \n",
       "1                Computer Programming(1)   \n",
       "2                Computer Programming(2)   \n",
       "3    Data Structures and File Processing   \n",
       "4                    Discrete Structures   \n",
       "\n",
       "                                             Content  \n",
       "0  FORTRAN Programming language: Constants and va...  \n",
       "1  Problem-solving strategies, Debugging strategi...  \n",
       "2  Functions and parameter passing, Simple I/O, E...  \n",
       "3  Specification and representation of the elemen...  \n",
       "4  Functions: Surjection’s, Injections, Inverses,...  "
      ]
     },
     "execution_count": 5,
     "metadata": {},
     "output_type": "execute_result"
    }
   ],
   "source": [
    "df[['Name','Content']].head()"
   ]
  },
  {
   "cell_type": "markdown",
   "metadata": {},
   "source": [
    "## Define a certain course index to test with"
   ]
  },
  {
   "cell_type": "code",
   "execution_count": 6,
   "metadata": {
    "ExecuteTime": {
     "end_time": "2019-06-20T15:36:31.744862Z",
     "start_time": "2019-06-20T15:36:31.434450Z"
    }
   },
   "outputs": [],
   "source": [
    "courseIndex = 34            # ML"
   ]
  },
  {
   "cell_type": "markdown",
   "metadata": {},
   "source": [
    "## Extract features from text"
   ]
  },
  {
   "cell_type": "code",
   "execution_count": 7,
   "metadata": {
    "ExecuteTime": {
     "end_time": "2019-06-20T15:36:31.996901Z",
     "start_time": "2019-06-20T15:36:31.746815Z"
    }
   },
   "outputs": [],
   "source": [
    "from sklearn.feature_extraction.text import CountVectorizer, TfidfVectorizer"
   ]
  },
  {
   "cell_type": "markdown",
   "metadata": {},
   "source": [
    "## But first, we need to understand some stuff, like, what is TfidfVectorizer?"
   ]
  },
  {
   "cell_type": "markdown",
   "metadata": {},
   "source": [
    "**TfidfVectorizer** is a utility that helps building **feature vectors** from text documents, we can't do Machine Learning on raw text, it has to be \"encoded\" into numbers.\n",
    "\n",
    "## How does TfidfVectorizer work?\n",
    "Well, first, it counts each word number of occurrences in the documents, then constructs Tfidf Vector\n",
    "\n",
    "### But, what is Tf-idf anyways?\n",
    "\n",
    "**Term Frequency-Inverse Document Frequency** is a numerical statistic that demonstrates how important a word is to a corpus.\n",
    "\n",
    "**Term Frequency is** just ratio number of current word to the number of all words in document.\n",
    "\n",
    "![Sorry, couldn't find image](./images/tf.png \"TF\")\n",
    "\n",
    "Where nt (the number of term frequency \"ti\" in current document) / the sum of nk which is the number of all terms in current document.\n",
    "\n",
    "**Inverse Document Frequency** is a log of the ratio of the number of all documents in the corpus to the number of documents with term ti.\n",
    "\n",
    "![Sorry, couldn't find image](./images/idf.png \"IDF\")\n",
    "\n",
    "Tf-idf(t, d, D) is the product tf(t, d) to idf(t, D).\n",
    "\n",
    "![Sorry, couldn't find image](./images/tf-idf.png \"TF-IDF\")\n"
   ]
  },
  {
   "cell_type": "markdown",
   "metadata": {},
   "source": [
    "## Looking closely how it's done"
   ]
  },
  {
   "cell_type": "code",
   "execution_count": 8,
   "metadata": {
    "ExecuteTime": {
     "end_time": "2019-06-20T15:36:32.012514Z",
     "start_time": "2019-06-20T15:36:31.999079Z"
    }
   },
   "outputs": [
    {
     "data": {
      "text/plain": [
       "matrix([[ 0.,  0.,  0., ...,  0.,  0.,  0.],\n",
       "        [ 0.,  0.,  0., ...,  0.,  0.,  0.],\n",
       "        [ 0.,  0.,  0., ...,  0.,  0.,  0.],\n",
       "        ..., \n",
       "        [ 0.,  0.,  0., ...,  0.,  0.,  0.],\n",
       "        [ 0.,  0.,  0., ...,  0.,  0.,  0.],\n",
       "        [ 0.,  0.,  0., ...,  0.,  0.,  0.]])"
      ]
     },
     "execution_count": 8,
     "metadata": {},
     "output_type": "execute_result"
    }
   ],
   "source": [
    "vectorizer = TfidfVectorizer(stop_words = 'english')\n",
    "features = vectorizer.fit_transform(df[\"Content\"]).todense()\n",
    "features"
   ]
  },
  {
   "cell_type": "markdown",
   "metadata": {},
   "source": [
    "# But what was that matrix? all zeros?! what have we donnne!\n",
    "### Let's see, shall we?\n",
    "\n",
    "It's because the result of the fit_transform() function is a **sparse matrix**; \n",
    "A sparse matrix is the one with most elements = 0, we converted it to a matrix by using todense() function to be able to continue."
   ]
  },
  {
   "cell_type": "markdown",
   "metadata": {},
   "source": [
    "## See Vocabulary\n",
    "### It's a dictionary with words as keys and its index as value, alphabetically ordered."
   ]
  },
  {
   "cell_type": "code",
   "execution_count": 9,
   "metadata": {
    "ExecuteTime": {
     "end_time": "2019-06-20T15:36:32.307597Z",
     "start_time": "2019-06-20T15:36:32.014624Z"
    },
    "scrolled": true
   },
   "outputs": [
    {
     "name": "stdout",
     "output_type": "stream",
     "text": [
      "{'1st': 0,\n",
      " '2d': 1,\n",
      " '3nf': 2,\n",
      " '4nf': 3,\n",
      " '80386': 4,\n",
      " '80486': 5,\n",
      " '95': 6,\n",
      " 'ability': 7,\n",
      " 'abstract': 8,\n",
      " 'abstraction': 9,\n",
      " 'abstractions': 10,\n",
      " 'acceptance': 11,\n",
      " 'access': 12,\n",
      " 'accuracy': 13,\n",
      " 'acquisition': 14,\n",
      " 'action': 15,\n",
      " 'actions': 16,\n",
      " 'adaptive': 17,\n",
      " 'adaptors': 18,\n",
      " 'adders': 19,\n",
      " 'additive': 20,\n",
      " 'address': 21,\n",
      " 'addressing': 22,\n",
      " 'advance': 23,\n",
      " 'advanced': 24,\n",
      " 'aes': 25,\n",
      " 'affine': 26,\n",
      " 'affordances': 27,\n",
      " 'agents': 28,\n",
      " 'aggregate': 29,\n",
      " 'aggregation': 30,\n",
      " 'ai': 31,\n",
      " 'aims': 32,\n",
      " 'algebra': 33,\n",
      " 'algebraic': 34,\n",
      " 'algorithm': 35,\n",
      " 'algorithms': 36,\n",
      " 'algorithmsbased': 37,\n",
      " 'aliasing': 38,\n",
      " 'alignment': 39,\n",
      " 'alignments': 40,\n",
      " 'allpairs': 41,\n",
      " 'alpha': 42,\n",
      " 'alternation': 43,\n",
      " 'alternatives': 44,\n",
      " 'alu': 45,\n",
      " 'ambient': 46,\n",
      " 'ambiguity': 47,\n",
      " 'amgu': 48,\n",
      " 'amortization': 49,\n",
      " 'analysis': 50,\n",
      " 'analytical': 51,\n",
      " 'analyzers': 52,\n",
      " 'animation': 53,\n",
      " 'annealing': 54,\n",
      " 'ant': 55,\n",
      " 'anti': 56,\n",
      " 'api': 57,\n",
      " 'applets': 58,\n",
      " 'application': 59,\n",
      " 'applications': 60,\n",
      " 'apply': 61,\n",
      " 'approach': 62,\n",
      " 'approaches': 63,\n",
      " 'approximation': 64,\n",
      " 'architectural': 65,\n",
      " 'architecture': 66,\n",
      " 'architectures': 67,\n",
      " 'area': 68,\n",
      " 'arguments': 69,\n",
      " 'arithmetic': 70,\n",
      " 'arqs': 71,\n",
      " 'array': 72,\n",
      " 'arrays': 73,\n",
      " 'articulated': 74,\n",
      " 'aspects': 75,\n",
      " 'assembly': 76,\n",
      " 'assignment': 77,\n",
      " 'association': 78,\n",
      " 'assumptions': 79,\n",
      " 'asymptotic': 80,\n",
      " 'asymptotics': 81,\n",
      " 'asynchronous': 82,\n",
      " 'attention': 83,\n",
      " 'audio': 84,\n",
      " 'augmented': 85,\n",
      " 'authentication': 86,\n",
      " 'auto': 87,\n",
      " 'automata': 88,\n",
      " 'automated': 89,\n",
      " 'automatic': 90,\n",
      " 'average': 91,\n",
      " 'avoidance': 92,\n",
      " 'backtracking': 93,\n",
      " 'backups': 94,\n",
      " 'backward': 95,\n",
      " 'bagging': 96,\n",
      " 'bags': 97,\n",
      " 'balancing': 98,\n",
      " 'band': 99,\n",
      " 'bandwidth': 100,\n",
      " 'barriers': 101,\n",
      " 'base': 102,\n",
      " 'based': 103,\n",
      " 'bases': 104,\n",
      " 'basic': 105,\n",
      " 'basics': 106,\n",
      " 'basis': 107,\n",
      " 'bayes': 108,\n",
      " 'bcnf': 109,\n",
      " 'behavior': 110,\n",
      " 'behavioral': 111,\n",
      " 'bellman': 112,\n",
      " 'best': 113,\n",
      " 'beta': 114,\n",
      " 'bfs': 115,\n",
      " 'bibliographic': 116,\n",
      " 'bilevel': 117,\n",
      " 'binary': 118,\n",
      " 'binding': 119,\n",
      " 'binomial': 120,\n",
      " 'bioinformatics': 121,\n",
      " 'biology': 122,\n",
      " 'bisection': 123,\n",
      " 'bitmap': 124,\n",
      " 'bitmaps': 125,\n",
      " 'blocking': 126,\n",
      " 'blocks': 127,\n",
      " 'bnf': 128,\n",
      " 'body': 129,\n",
      " 'boosting': 130,\n",
      " 'bootstrapping': 131,\n",
      " 'boundaries': 132,\n",
      " 'boundary': 133,\n",
      " 'bounds': 134,\n",
      " 'boxes': 135,\n",
      " 'boyer': 136,\n",
      " 'brief': 137,\n",
      " 'broadcasting': 138,\n",
      " 'browsers': 139,\n",
      " 'brute': 140,\n",
      " 'bucket': 141,\n",
      " 'buffer': 142,\n",
      " 'buffering': 143,\n",
      " 'building': 144,\n",
      " 'bump': 145,\n",
      " 'bus': 146,\n",
      " 'business': 147,\n",
      " 'bézier': 148,\n",
      " 'cache': 149,\n",
      " 'calculations': 150,\n",
      " 'calculi': 151,\n",
      " 'calculus': 152,\n",
      " 'calibration': 153,\n",
      " 'calls': 154,\n",
      " 'candidate': 155,\n",
      " 'capture': 156,\n",
      " 'cardinality': 157,\n",
      " 'carlo': 158,\n",
      " 'case': 159,\n",
      " 'cases': 160,\n",
      " 'casteljau': 161,\n",
      " 'casting': 162,\n",
      " 'cathodic': 163,\n",
      " 'cdn': 164,\n",
      " 'certainty': 165,\n",
      " 'cfl': 166,\n",
      " 'cgi': 167,\n",
      " 'channel': 168,\n",
      " 'channels': 169,\n",
      " 'character': 170,\n",
      " 'characteristic': 171,\n",
      " 'characteristics': 172,\n",
      " 'charts': 173,\n",
      " 'check': 174,\n",
      " 'checked': 175,\n",
      " 'checking': 176,\n",
      " 'chervonenkis': 177,\n",
      " 'chi': 178,\n",
      " 'cholesky': 179,\n",
      " 'chomsky': 180,\n",
      " 'church': 181,\n",
      " 'circuit': 182,\n",
      " 'circuits': 183,\n",
      " 'class': 184,\n",
      " 'classes': 185,\n",
      " 'classical': 186,\n",
      " 'classification': 187,\n",
      " 'classifier': 188,\n",
      " 'classifiers': 189,\n",
      " 'clause': 190,\n",
      " 'clauses': 191,\n",
      " 'clementine': 192,\n",
      " 'client': 193,\n",
      " 'clientserver': 194,\n",
      " 'climbing': 195,\n",
      " 'clipping': 196,\n",
      " 'clique': 197,\n",
      " 'clocks': 198,\n",
      " 'closest': 199,\n",
      " 'closure': 200,\n",
      " 'closures': 201,\n",
      " 'clustering': 202,\n",
      " 'code': 203,\n",
      " 'coder': 204,\n",
      " 'coding': 205,\n",
      " 'cognitive': 206,\n",
      " 'collaboration': 207,\n",
      " 'collection': 208,\n",
      " 'collision': 209,\n",
      " 'colony': 210,\n",
      " 'color': 211,\n",
      " 'coloring': 212,\n",
      " 'combinations': 213,\n",
      " 'combining': 214,\n",
      " 'command': 215,\n",
      " 'commerce': 216,\n",
      " 'common': 217,\n",
      " 'communication': 218,\n",
      " 'compactness': 219,\n",
      " 'comparison': 220,\n",
      " 'comparisons': 221,\n",
      " 'compatibility': 222,\n",
      " 'compiler': 223,\n",
      " 'compilers': 224,\n",
      " 'complement': 225,\n",
      " 'complete': 226,\n",
      " 'completeness': 227,\n",
      " 'complexity': 228,\n",
      " 'complicity': 229,\n",
      " 'component': 230,\n",
      " 'components': 231,\n",
      " 'composition': 232,\n",
      " 'compression': 233,\n",
      " 'computability': 234,\n",
      " 'computation': 235,\n",
      " 'computational': 236,\n",
      " 'computations': 237,\n",
      " 'computer': 238,\n",
      " 'computers': 239,\n",
      " 'computing': 240,\n",
      " 'concept': 241,\n",
      " 'concepts': 242,\n",
      " 'conceptual': 243,\n",
      " 'concurrency': 244,\n",
      " 'concurrent': 245,\n",
      " 'condition': 246,\n",
      " 'conditional': 247,\n",
      " 'configuration': 248,\n",
      " 'configurations': 249,\n",
      " 'congestion': 250,\n",
      " 'conjugate': 251,\n",
      " 'connected': 252,\n",
      " 'connectives': 253,\n",
      " 'connectivity': 254,\n",
      " 'conquer': 255,\n",
      " 'consistency': 256,\n",
      " 'constants': 257,\n",
      " 'constrained': 258,\n",
      " 'constraint': 259,\n",
      " 'constraints': 260,\n",
      " 'constructing': 261,\n",
      " 'construction': 262,\n",
      " 'constructive': 263,\n",
      " 'consumer': 264,\n",
      " 'contamination': 265,\n",
      " 'content': 266,\n",
      " 'contents': 267,\n",
      " 'context': 268,\n",
      " 'continuation': 269,\n",
      " 'continuations': 270,\n",
      " 'continuous': 271,\n",
      " 'contradiction': 272,\n",
      " 'contraposition': 273,\n",
      " 'control': 274,\n",
      " 'controlled': 275,\n",
      " 'controlling': 276,\n",
      " 'controls': 277,\n",
      " 'convergence': 278,\n",
      " 'conversation': 279,\n",
      " 'converse': 280,\n",
      " 'conversion': 281,\n",
      " 'conversions': 282,\n",
      " 'converting': 283,\n",
      " 'convex': 284,\n",
      " 'convolution': 285,\n",
      " 'cook': 286,\n",
      " 'coordinates': 287,\n",
      " 'coping': 288,\n",
      " 'core': 289,\n",
      " 'corporate': 290,\n",
      " 'correlated': 291,\n",
      " 'correlation': 292,\n",
      " 'correspondence': 293,\n",
      " 'cosine': 294,\n",
      " 'cost': 295,\n",
      " 'cotes': 296,\n",
      " 'countability': 297,\n",
      " 'counter': 298,\n",
      " 'counterexample': 299,\n",
      " 'counters': 300,\n",
      " 'counting': 301,\n",
      " 'covariance': 302,\n",
      " 'cover': 303,\n",
      " 'cpss': 304,\n",
      " 'cpu': 305,\n",
      " 'craig': 306,\n",
      " 'creating': 307,\n",
      " 'critical': 308,\n",
      " 'cryptographic': 309,\n",
      " 'cryptography': 310,\n",
      " 'cryptosystems': 311,\n",
      " 'csg': 312,\n",
      " 'cube': 313,\n",
      " 'curved': 314,\n",
      " 'curves': 315,\n",
      " 'cycle': 316,\n",
      " 'cym': 317,\n",
      " 'data': 318,\n",
      " 'database': 319,\n",
      " 'databases': 320,\n",
      " 'datagram': 321,\n",
      " 'datagrams': 322,\n",
      " 'deadlines': 323,\n",
      " 'deadlock': 324,\n",
      " 'debugging': 325,\n",
      " 'decidability': 326,\n",
      " 'decision': 327,\n",
      " 'decode': 328,\n",
      " 'decomposition': 329,\n",
      " 'decrease': 330,\n",
      " 'deductive': 331,\n",
      " 'defense': 332,\n",
      " 'defenses': 333,\n",
      " 'defined': 334,\n",
      " 'definition': 335,\n",
      " 'definitions': 336,\n",
      " 'deformation': 337,\n",
      " 'delivering': 338,\n",
      " 'denial': 339,\n",
      " 'dependant': 340,\n",
      " 'dependencies': 341,\n",
      " 'depth': 342,\n",
      " 'derive': 343,\n",
      " 'des': 344,\n",
      " 'descent': 345,\n",
      " 'design': 346,\n",
      " 'designing': 347,\n",
      " 'designs': 348,\n",
      " 'details': 349,\n",
      " 'detection': 350,\n",
      " 'deterministic': 351,\n",
      " 'developer': 352,\n",
      " 'development': 353,\n",
      " 'device': 354,\n",
      " 'devices': 355,\n",
      " 'dfa': 356,\n",
      " 'dfas': 357,\n",
      " 'dfs': 358,\n",
      " 'diagonalization': 359,\n",
      " 'diagrams': 360,\n",
      " 'dialogue': 361,\n",
      " 'dictionary': 362,\n",
      " 'differencing': 363,\n",
      " 'different': 364,\n",
      " 'difficulties': 365,\n",
      " 'diffuse': 366,\n",
      " 'digital': 367,\n",
      " 'dijkstra': 368,\n",
      " 'dimension': 369,\n",
      " 'direct': 370,\n",
      " 'directed': 371,\n",
      " 'directories': 372,\n",
      " 'discovery': 373,\n",
      " 'discrete': 374,\n",
      " 'discretization': 375,\n",
      " 'disjoint': 376,\n",
      " 'disk': 377,\n",
      " 'dispatching': 378,\n",
      " 'display': 379,\n",
      " 'displays': 380,\n",
      " 'distance': 381,\n",
      " 'distributed': 382,\n",
      " 'distribution': 383,\n",
      " 'distributions': 384,\n",
      " 'diversity': 385,\n",
      " 'divide': 386,\n",
      " 'dma': 387,\n",
      " 'dna': 388,\n",
      " 'dns': 389,\n",
      " 'document': 390,\n",
      " 'documents': 391,\n",
      " 'domain': 392,\n",
      " 'double': 393,\n",
      " 'driven': 394,\n",
      " 'drives': 395,\n",
      " 'dynamic': 396,\n",
      " 'economics': 397,\n",
      " 'edge': 398,\n",
      " 'editing': 399,\n",
      " 'edits': 400,\n",
      " 'effect': 401,\n",
      " 'efficiency': 402,\n",
      " 'efficient': 403,\n",
      " 'eigenvalue': 404,\n",
      " 'electronic': 405,\n",
      " 'elementary': 406,\n",
      " 'elements': 407,\n",
      " 'elimination': 408,\n",
      " 'embarrassingly': 409,\n",
      " 'empirical': 410,\n",
      " 'encoding': 411,\n",
      " 'ended': 412,\n",
      " 'engineering': 413,\n",
      " 'ensemble': 414,\n",
      " 'entity': 415,\n",
      " 'enumerators': 416,\n",
      " 'environment': 417,\n",
      " 'environments': 418,\n",
      " 'equation': 419,\n",
      " 'equations': 420,\n",
      " 'equivalence': 421,\n",
      " 'error': 422,\n",
      " 'errors': 423,\n",
      " 'ethernet': 424,\n",
      " 'ethics': 425,\n",
      " 'euler': 426,\n",
      " 'evaluating': 427,\n",
      " 'evaluation': 428,\n",
      " 'event': 429,\n",
      " 'events': 430,\n",
      " 'evolution': 431,\n",
      " 'evolutionary': 432,\n",
      " 'exact': 433,\n",
      " 'exampledebugging': 434,\n",
      " 'examples': 435,\n",
      " 'exception': 436,\n",
      " 'exceptions': 437,\n",
      " 'exchange': 438,\n",
      " 'exclusion': 439,\n",
      " 'execution': 440,\n",
      " 'existence': 441,\n",
      " 'existential': 442,\n",
      " 'experiments': 443,\n",
      " 'expert': 444,\n",
      " 'exploration': 445,\n",
      " 'exponential': 446,\n",
      " 'expression': 447,\n",
      " 'expressions': 448,\n",
      " 'extended': 449,\n",
      " 'extensive': 450,\n",
      " 'external': 451,\n",
      " 'face': 452,\n",
      " 'facing': 453,\n",
      " 'factorization': 454,\n",
      " 'factors': 455,\n",
      " 'fairness': 456,\n",
      " 'fast': 457,\n",
      " 'feature': 458,\n",
      " 'features': 459,\n",
      " 'feedback': 460,\n",
      " 'fetch': 461,\n",
      " 'fibonnaci': 462,\n",
      " 'field': 463,\n",
      " 'fields': 464,\n",
      " 'file': 465,\n",
      " 'files': 466,\n",
      " 'filling': 467,\n",
      " 'filtering': 468,\n",
      " 'finding': 469,\n",
      " 'finite': 470,\n",
      " 'firewalls': 471,\n",
      " 'fit': 472,\n",
      " 'fitt': 473,\n",
      " 'fitz': 474,\n",
      " 'fixed': 475,\n",
      " 'flat': 476,\n",
      " 'flip': 477,\n",
      " 'floating': 478,\n",
      " 'flops': 479,\n",
      " 'flow': 480,\n",
      " 'floyd': 481,\n",
      " 'focus': 482,\n",
      " 'font': 483,\n",
      " 'force': 484,\n",
      " 'ford': 485,\n",
      " 'forensics': 486,\n",
      " 'form': 487,\n",
      " 'formal': 488,\n",
      " 'formats': 489,\n",
      " 'forms': 490,\n",
      " 'formulae': 491,\n",
      " 'forth': 492,\n",
      " 'fortran': 493,\n",
      " 'forward': 494,\n",
      " 'forwarding': 495,\n",
      " 'foundation': 496,\n",
      " 'foundations': 497,\n",
      " 'founded': 498,\n",
      " 'fourier': 499,\n",
      " 'frame': 500,\n",
      " 'framework': 501,\n",
      " 'framing': 502,\n",
      " 'free': 503,\n",
      " 'ftp': 504,\n",
      " 'function': 505,\n",
      " 'functions': 506,\n",
      " 'fundamental': 507,\n",
      " 'fuzzy': 508,\n",
      " 'game': 509,\n",
      " 'gantt': 510,\n",
      " 'gates': 511,\n",
      " 'gaussian': 512,\n",
      " 'generating': 513,\n",
      " 'generation': 514,\n",
      " 'genetic': 515,\n",
      " 'geometrical': 516,\n",
      " 'geometry': 517,\n",
      " 'global': 518,\n",
      " 'golden': 519,\n",
      " 'goodness': 520,\n",
      " 'gouraud': 521,\n",
      " 'gradients': 522,\n",
      " 'gram': 523,\n",
      " 'grammar': 524,\n",
      " 'grammars': 525,\n",
      " 'graph': 526,\n",
      " 'graphical': 527,\n",
      " 'graphics': 528,\n",
      " 'graphs': 529,\n",
      " 'gravitational': 530,\n",
      " 'greedy': 531,\n",
      " 'grid': 532,\n",
      " 'grids': 533,\n",
      " 'guidelines': 534,\n",
      " 'half': 535,\n",
      " 'halting': 536,\n",
      " 'hamiltonian': 537,\n",
      " 'handling': 538,\n",
      " 'handshaking': 539,\n",
      " 'hanoi': 540,\n",
      " 'haptic': 541,\n",
      " 'hardware': 542,\n",
      " 'hardwired': 543,\n",
      " 'hash': 544,\n",
      " 'hashing': 545,\n",
      " 'heap': 546,\n",
      " 'heaps': 547,\n",
      " 'hearing': 548,\n",
      " 'heat': 549,\n",
      " 'height': 550,\n",
      " 'help': 551,\n",
      " 'herbrand': 552,\n",
      " 'heuristic': 553,\n",
      " 'hidden': 554,\n",
      " 'hiding': 555,\n",
      " 'hierarchical': 556,\n",
      " 'hierarchies': 557,\n",
      " 'hierarchy': 558,\n",
      " 'higher': 559,\n",
      " 'hill': 560,\n",
      " 'histogram': 561,\n",
      " 'historical': 562,\n",
      " 'homogeneous': 563,\n",
      " 'hopfield': 564,\n",
      " 'horn': 565,\n",
      " 'hough': 566,\n",
      " 'householder': 567,\n",
      " 'http': 568,\n",
      " 'hulls': 569,\n",
      " 'human': 570,\n",
      " 'hvs': 571,\n",
      " 'hybrid': 572,\n",
      " 'hypermedia': 573,\n",
      " 'hyperresolution': 574,\n",
      " 'icons': 575,\n",
      " 'ida': 576,\n",
      " 'idea': 577,\n",
      " 'identifying': 578,\n",
      " 'ilp': 579,\n",
      " 'image': 580,\n",
      " 'implementation': 581,\n",
      " 'implementations': 582,\n",
      " 'implementing': 583,\n",
      " 'implication': 584,\n",
      " 'implicit': 585,\n",
      " 'importance': 586,\n",
      " 'improvement': 587,\n",
      " 'impulse': 588,\n",
      " 'inbetweening': 589,\n",
      " 'including': 590,\n",
      " 'increase': 591,\n",
      " 'independent': 592,\n",
      " 'index': 593,\n",
      " 'indexing': 594,\n",
      " 'inductive': 595,\n",
      " 'inference': 596,\n",
      " 'information': 597,\n",
      " 'inheritance': 598,\n",
      " 'initial': 599,\n",
      " 'initiation': 600,\n",
      " 'injections': 601,\n",
      " 'inner': 602,\n",
      " 'input': 603,\n",
      " 'insertion': 604,\n",
      " 'instance': 605,\n",
      " 'instruction': 606,\n",
      " 'instructional': 607,\n",
      " 'instructions': 608,\n",
      " 'integers': 609,\n",
      " 'integration': 610,\n",
      " 'integrators': 611,\n",
      " 'integrity': 612,\n",
      " 'intellectual': 613,\n",
      " 'intelligent': 614,\n",
      " 'interaction': 615,\n",
      " 'interactive': 616,\n",
      " 'interconnection': 617,\n",
      " 'interface': 618,\n",
      " 'interfaces': 619,\n",
      " 'interleaving': 620,\n",
      " 'internet': 621,\n",
      " 'interpolants': 622,\n",
      " 'interpolation': 623,\n",
      " 'interpretations': 624,\n",
      " 'interpreter': 625,\n",
      " 'interpreters': 626,\n",
      " 'interprocess': 627,\n",
      " 'interrogation': 628,\n",
      " 'interrupts': 629,\n",
      " 'intersecting': 630,\n",
      " 'intersection': 631,\n",
      " 'interval': 632,\n",
      " 'intractability': 633,\n",
      " 'intractable': 634,\n",
      " 'intrinsic': 635,\n",
      " 'introduction': 636,\n",
      " 'intrusion': 637,\n",
      " 'inverse': 638,\n",
      " 'inverses': 639,\n",
      " 'investigating': 640,\n",
      " 'ip': 641,\n",
      " 'irritations': 642,\n",
      " 'iso': 643,\n",
      " 'isolations': 644,\n",
      " 'issues': 645,\n",
      " 'iteration': 646,\n",
      " 'iterative': 647,\n",
      " 'java': 648,\n",
      " 'javasctript': 649,\n",
      " 'jbig': 650,\n",
      " 'jordan': 651,\n",
      " 'jpeg': 652,\n",
      " 'karhounen': 653,\n",
      " 'key': 654,\n",
      " 'keyboard': 655,\n",
      " 'keystroke': 656,\n",
      " 'keyword': 657,\n",
      " 'kinematics': 658,\n",
      " 'knots': 659,\n",
      " 'knowledge': 660,\n",
      " 'known': 661,\n",
      " 'knuth': 662,\n",
      " 'kruskal': 663,\n",
      " 'kutta': 664,\n",
      " 'lagrange': 665,\n",
      " 'language': 666,\n",
      " 'languages': 667,\n",
      " 'laplace': 668,\n",
      " 'latency': 669,\n",
      " 'law': 670,\n",
      " 'laws': 671,\n",
      " 'layer': 672,\n",
      " 'layered': 673,\n",
      " 'layers': 674,\n",
      " 'layout': 675,\n",
      " 'lazy': 676,\n",
      " 'lcs': 677,\n",
      " 'learn': 678,\n",
      " 'learned': 679,\n",
      " 'learning': 680,\n",
      " 'ledge': 681,\n",
      " 'lemma': 682,\n",
      " 'length': 683,\n",
      " 'level': 684,\n",
      " 'levels': 685,\n",
      " 'levin': 686,\n",
      " 'lexical': 687,\n",
      " 'lexicographic': 688,\n",
      " 'lexicon': 689,\n",
      " 'libdnet': 690,\n",
      " 'libnet': 691,\n",
      " 'libpcap': 692,\n",
      " 'life': 693,\n",
      " 'lifecycle': 694,\n",
      " 'lifting': 695,\n",
      " 'light': 696,\n",
      " 'limits': 697,\n",
      " 'linear': 698,\n",
      " 'link': 699,\n",
      " 'linked': 700,\n",
      " 'list': 701,\n",
      " 'lists': 702,\n",
      " 'll': 703,\n",
      " 'load': 704,\n",
      " 'local': 705,\n",
      " 'lod': 706,\n",
      " 'loeve': 707,\n",
      " 'logic': 708,\n",
      " 'logical': 709,\n",
      " 'logics': 710,\n",
      " 'longest': 711,\n",
      " 'loop': 712,\n",
      " 'loops': 713,\n",
      " 'lossy': 714,\n",
      " 'lr': 715,\n",
      " 'ls': 716,\n",
      " 'lu': 717,\n",
      " 'löwenheim': 718,\n",
      " 'machine': 719,\n",
      " 'machines': 720,\n",
      " 'main': 721,\n",
      " 'malicious': 722,\n",
      " 'management': 723,\n",
      " 'managing': 724,\n",
      " 'mandelbrot': 725,\n",
      " 'manipulate': 726,\n",
      " 'manipulation': 727,\n",
      " 'map': 728,\n",
      " 'mapped': 729,\n",
      " 'mapping': 730,\n",
      " 'maps': 731,\n",
      " 'marching': 732,\n",
      " 'markov': 733,\n",
      " 'masm': 734,\n",
      " 'master': 735,\n",
      " 'matched': 736,\n",
      " 'matching': 737,\n",
      " 'material': 738,\n",
      " 'mathematical': 739,\n",
      " 'mathod': 740,\n",
      " 'matlab': 741,\n",
      " 'matrices': 742,\n",
      " 'matrix': 743,\n",
      " 'md5': 744,\n",
      " 'measure': 745,\n",
      " 'measures': 746,\n",
      " 'mechanisms': 747,\n",
      " 'medicine': 748,\n",
      " 'medium': 749,\n",
      " 'memories': 750,\n",
      " 'memory': 751,\n",
      " 'menu': 752,\n",
      " 'menus': 753,\n",
      " 'merge': 754,\n",
      " 'message': 755,\n",
      " 'metadata': 756,\n",
      " 'metamorphosis': 757,\n",
      " 'metaphors': 758,\n",
      " 'method': 759,\n",
      " 'methodologies': 760,\n",
      " 'methodology': 761,\n",
      " 'methods': 762,\n",
      " 'micro': 763,\n",
      " 'microcomputers': 764,\n",
      " 'microcontroller': 765,\n",
      " 'microprocessors': 766,\n",
      " 'mime': 767,\n",
      " 'minimax': 768,\n",
      " 'minimum': 769,\n",
      " 'mining': 770,\n",
      " 'mode': 771,\n",
      " 'model': 772,\n",
      " 'modeling': 773,\n",
      " 'models': 774,\n",
      " 'modes': 775,\n",
      " 'module': 776,\n",
      " 'modus': 777,\n",
      " 'molecular': 778,\n",
      " 'monitors': 779,\n",
      " 'monotonic': 780,\n",
      " 'monte': 781,\n",
      " 'moore': 782,\n",
      " 'morphology': 783,\n",
      " 'morris': 784,\n",
      " 'motion': 785,\n",
      " 'moving': 786,\n",
      " 'mpi': 787,\n",
      " 'multi': 788,\n",
      " 'multicasting': 789,\n",
      " 'multimedia': 790,\n",
      " 'multiple': 791,\n",
      " 'multiplexing': 792,\n",
      " 'multiplication': 793,\n",
      " 'multiplicative': 794,\n",
      " 'multipliers': 795,\n",
      " 'multiprocessor': 796,\n",
      " 'mutable': 797,\n",
      " 'mutual': 798,\n",
      " 'naming': 799,\n",
      " 'natural': 800,\n",
      " 'nearest': 801,\n",
      " 'needs': 802,\n",
      " 'negation': 803,\n",
      " 'neighbor': 804,\n",
      " 'network': 805,\n",
      " 'networked': 806,\n",
      " 'networks': 807,\n",
      " 'neuman': 808,\n",
      " 'neural': 809,\n",
      " 'neuro': 810,\n",
      " 'new': 811,\n",
      " 'newmark': 812,\n",
      " 'newton': 813,\n",
      " 'nfa': 814,\n",
      " 'nfas': 815,\n",
      " 'nl': 816,\n",
      " 'non': 817,\n",
      " 'noncontext': 818,\n",
      " 'nondeterministic': 819,\n",
      " 'nonlinear': 820,\n",
      " 'nonnumeric': 821,\n",
      " 'nonsequential': 822,\n",
      " 'normal': 823,\n",
      " 'norman': 824,\n",
      " 'norms': 825,\n",
      " 'notation': 826,\n",
      " 'notion': 827,\n",
      " 'np': 828,\n",
      " 'npcompleteness': 829,\n",
      " 'number': 830,\n",
      " 'numbers': 831,\n",
      " 'numeric': 832,\n",
      " 'numerical': 833,\n",
      " 'nurbs': 834,\n",
      " 'object': 835,\n",
      " 'objects': 836,\n",
      " 'observations': 837,\n",
      " 'ode': 838,\n",
      " 'odl': 839,\n",
      " 'oo': 840,\n",
      " 'opacity': 841,\n",
      " 'open': 842,\n",
      " 'operating': 843,\n",
      " 'operations': 844,\n",
      " 'operator': 845,\n",
      " 'operators': 846,\n",
      " 'optical': 847,\n",
      " 'optimal': 848,\n",
      " 'optimality': 849,\n",
      " 'optimization': 850,\n",
      " 'options': 851,\n",
      " 'order': 852,\n",
      " 'ordered': 853,\n",
      " 'orderings': 854,\n",
      " 'organization': 855,\n",
      " 'organizing': 856,\n",
      " 'orientation': 857,\n",
      " 'oriented': 858,\n",
      " 'orthogonal': 859,\n",
      " 'orthonormalization': 860,\n",
      " 'osi': 861,\n",
      " 'outline': 862,\n",
      " 'output': 863,\n",
      " 'overlays': 864,\n",
      " 'overloading': 865,\n",
      " 'overview': 866,\n",
      " 'p2p': 867,\n",
      " 'pac': 868,\n",
      " 'packet': 869,\n",
      " 'paging': 870,\n",
      " 'pair': 871,\n",
      " 'paradigms': 872,\n",
      " 'parallel': 873,\n",
      " 'parallelism': 874,\n",
      " 'parameter': 875,\n",
      " 'parameters': 876,\n",
      " 'parametric': 877,\n",
      " 'parse': 878,\n",
      " 'parsing': 879,\n",
      " 'particle': 880,\n",
      " 'partitioning': 881,\n",
      " 'partitions': 882,\n",
      " 'passing': 883,\n",
      " 'path': 884,\n",
      " 'paths': 885,\n",
      " 'patterns': 886,\n",
      " 'pde': 887,\n",
      " 'perception': 888,\n",
      " 'perfect': 889,\n",
      " 'performance': 890,\n",
      " 'permutations': 891,\n",
      " 'persons': 892,\n",
      " 'pert': 893,\n",
      " 'phong': 894,\n",
      " 'phylogenetic': 895,\n",
      " 'physical': 896,\n",
      " 'pic': 897,\n",
      " 'picture': 898,\n",
      " 'pigeonhole': 899,\n",
      " 'pipelining': 900,\n",
      " 'pipes': 901,\n",
      " 'pivoting': 902,\n",
      " 'placement': 903,\n",
      " 'planning': 904,\n",
      " 'playing': 905,\n",
      " 'point': 906,\n",
      " 'pointers': 907,\n",
      " 'pointing': 908,\n",
      " 'points': 909,\n",
      " 'poison': 910,\n",
      " 'poisson': 911,\n",
      " 'policies': 912,\n",
      " 'policy': 913,\n",
      " 'polygonal': 914,\n",
      " 'polyhedral': 915,\n",
      " 'polymorphism': 916,\n",
      " 'polynomial': 917,\n",
      " 'polytime': 918,\n",
      " 'ponens': 919,\n",
      " 'position': 920,\n",
      " 'post': 921,\n",
      " 'power': 922,\n",
      " 'ppm': 923,\n",
      " 'practical': 924,\n",
      " 'pratt': 925,\n",
      " 'preconditioning': 926,\n",
      " 'predicate': 927,\n",
      " 'prediction': 928,\n",
      " 'preemptive': 929,\n",
      " 'preprocessing': 930,\n",
      " 'presentations': 931,\n",
      " 'prim': 932,\n",
      " 'primitive': 933,\n",
      " 'principle': 934,\n",
      " 'principles': 935,\n",
      " 'priority': 936,\n",
      " 'prn': 937,\n",
      " 'probabilistic': 938,\n",
      " 'probability': 939,\n",
      " 'problem': 940,\n",
      " 'problems': 941,\n",
      " 'procedural': 942,\n",
      " 'procedure': 943,\n",
      " 'procedures': 944,\n",
      " 'process': 945,\n",
      " 'processes': 946,\n",
      " 'processing': 947,\n",
      " 'processor': 948,\n",
      " 'processors': 949,\n",
      " 'producer': 950,\n",
      " 'products': 951,\n",
      " 'program': 952,\n",
      " 'programmed': 953,\n",
      " 'programming': 954,\n",
      " 'project': 955,\n",
      " 'projects': 956,\n",
      " 'prolog': 957,\n",
      " 'proof': 958,\n",
      " 'proofs': 959,\n",
      " 'propagation': 960,\n",
      " 'properties': 961,\n",
      " 'property': 962,\n",
      " 'propositional': 963,\n",
      " 'protected': 964,\n",
      " 'protection': 965,\n",
      " 'protocol': 966,\n",
      " 'protocols': 967,\n",
      " 'prototyping': 968,\n",
      " 'prover': 969,\n",
      " 'proving': 970,\n",
      " 'pruning': 971,\n",
      " 'pseudo': 972,\n",
      " 'pspace': 973,\n",
      " 'public': 974,\n",
      " 'publickey': 975,\n",
      " 'publishers': 976,\n",
      " 'publishing': 977,\n",
      " 'pumping': 978,\n",
      " 'push': 979,\n",
      " 'pushdown': 980,\n",
      " 'pvm': 981,\n",
      " 'qr': 982,\n",
      " 'quadrature': 983,\n",
      " 'quality': 984,\n",
      " 'quantification': 985,\n",
      " 'quantifiers': 986,\n",
      " 'quantization': 987,\n",
      " 'quaternions': 988,\n",
      " 'querying': 989,\n",
      " 'question': 990,\n",
      " 'queues': 991,\n",
      " 'quick': 992,\n",
      " 'radial': 993,\n",
      " 'radix': 994,\n",
      " 'random': 995,\n",
      " 'randomized': 996,\n",
      " 'ranking': 997,\n",
      " 'raster': 998,\n",
      " 'rate': 999,\n",
      " 'ray': 1000,\n",
      " 'readiness': 1001,\n",
      " 'ready': 1002,\n",
      " 'real': 1003,\n",
      " 'reality': 1004,\n",
      " 'realization': 1005,\n",
      " 'realmode': 1006,\n",
      " 'reasoning': 1007,\n",
      " 'recording': 1008,\n",
      " 'records': 1009,\n",
      " 'recovery': 1010,\n",
      " 'rectangles': 1011,\n",
      " 'recurrence': 1012,\n",
      " 'recurrences': 1013,\n",
      " 'recursion': 1014,\n",
      " 'recursive': 1015,\n",
      " 'reducibility': 1016,\n",
      " 'reduction': 1017,\n",
      " 'reductions': 1018,\n",
      " 'redundancy': 1019,\n",
      " 'reference': 1020,\n",
      " 'refinements': 1021,\n",
      " 'reflection': 1022,\n",
      " 'reflections': 1023,\n",
      " 'refutational': 1024,\n",
      " 'region': 1025,\n",
      " 'regions': 1026,\n",
      " 'registers': 1027,\n",
      " 'regular': 1028,\n",
      " 'rejection': 1029,\n",
      " 'related': 1030,\n",
      " 'relational': 1031,\n",
      " 'relations': 1032,\n",
      " 'relationship': 1033,\n",
      " 'relaxation': 1034,\n",
      " 'reliability': 1035,\n",
      " 'reliable': 1036,\n",
      " 'remote': 1037,\n",
      " 'removal': 1038,\n",
      " 'rendering': 1039,\n",
      " 'rendezvous': 1040,\n",
      " 'rep': 1041,\n",
      " 'repair': 1042,\n",
      " 'repeat': 1043,\n",
      " 'repeats': 1044,\n",
      " 'replacement': 1045,\n",
      " 'representation': 1046,\n",
      " 'representations': 1047,\n",
      " 'requirements': 1048,\n",
      " 'residing': 1049,\n",
      " 'resolution': 1050,\n",
      " 'resource': 1051,\n",
      " 'response': 1052,\n",
      " 'results': 1053,\n",
      " 'retransmit': 1054,\n",
      " 'retrieval': 1055,\n",
      " 'retrieve': 1056,\n",
      " 'reuse': 1057,\n",
      " 'reviews': 1058,\n",
      " 'rgb': 1059,\n",
      " 'rights': 1060,\n",
      " 'rings': 1061,\n",
      " 'risk': 1062,\n",
      " 'risks': 1063,\n",
      " 'roc': 1064,\n",
      " 'role': 1065,\n",
      " 'roles': 1066,\n",
      " 'rotation': 1067,\n",
      " 'rough': 1068,\n",
      " 'routing': 1069,\n",
      " 'rsa': 1070,\n",
      " 'rule': 1071,\n",
      " 'rules': 1072,\n",
      " 'run': 1073,\n",
      " 'runge': 1074,\n",
      " 'sampling': 1075,\n",
      " 'satisfaction': 1076,\n",
      " 'satisfiability': 1077,\n",
      " 'saturation': 1078,\n",
      " 'saturationbased': 1079,\n",
      " 'scalar': 1080,\n",
      " 'scalibility': 1081,\n",
      " 'scaling': 1082,\n",
      " 'scan': 1083,\n",
      " 'schedulers': 1084,\n",
      " 'scheduling': 1085,\n",
      " 'schemas': 1086,\n",
      " 'scheme': 1087,\n",
      " 'schemes': 1088,\n",
      " 'schmidt': 1089,\n",
      " 'schneiderman': 1090,\n",
      " 'scoring': 1091,\n",
      " 'scripting': 1092,\n",
      " 'scripts': 1093,\n",
      " 'search': 1094,\n",
      " 'searchable': 1095,\n",
      " 'searching': 1096,\n",
      " 'secant': 1097,\n",
      " 'section': 1098,\n",
      " 'security': 1099,\n",
      " 'segmentation': 1100,\n",
      " 'select': 1101,\n",
      " 'selected': 1102,\n",
      " 'selecting': 1103,\n",
      " 'selection': 1104,\n",
      " 'selective': 1105,\n",
      " 'self': 1106,\n",
      " 'semantic': 1107,\n",
      " 'semantics': 1108,\n",
      " 'semaphores': 1109,\n",
      " 'sensitive': 1110,\n",
      " 'sensors': 1111,\n",
      " 'sequence': 1112,\n",
      " 'sequences': 1113,\n",
      " 'sequencing': 1114,\n",
      " 'sequential': 1115,\n",
      " 'serial': 1116,\n",
      " 'server': 1117,\n",
      " 'servers': 1118,\n",
      " 'serverside': 1119,\n",
      " 'service': 1120,\n",
      " 'services': 1121,\n",
      " 'set': 1122,\n",
      " 'sets': 1123,\n",
      " 'seven': 1124,\n",
      " 'shading': 1125,\n",
      " 'shape': 1126,\n",
      " 'shared': 1127,\n",
      " 'shortest': 1128,\n",
      " 'signature': 1129,\n",
      " 'signatures': 1130,\n",
      " 'signed': 1131,\n",
      " 'similarity': 1132,\n",
      " 'simple': 1133,\n",
      " 'simplicity': 1134,\n",
      " 'simplification': 1135,\n",
      " 'simscript': 1136,\n",
      " 'simula': 1137,\n",
      " 'simulated': 1138,\n",
      " 'simulation': 1139,\n",
      " 'simulations': 1140,\n",
      " 'single': 1141,\n",
      " 'singular': 1142,\n",
      " 'skills': 1143,\n",
      " 'skolem': 1144,\n",
      " 'skolemization': 1145,\n",
      " 'sld': 1146,\n",
      " 'slow': 1147,\n",
      " 'smtp': 1148,\n",
      " 'social': 1149,\n",
      " 'socio': 1150,\n",
      " 'socket': 1151,\n",
      " 'sockets': 1152,\n",
      " 'software': 1153,\n",
      " 'solid': 1154,\n",
      " 'solids': 1155,\n",
      " 'solution': 1156,\n",
      " 'solving': 1157,\n",
      " 'sort': 1158,\n",
      " 'sorting': 1159,\n",
      " 'sound': 1160,\n",
      " 'soundness': 1161,\n",
      " 'source': 1162,\n",
      " 'sources': 1163,\n",
      " 'space': 1164,\n",
      " 'spaces': 1165,\n",
      " 'spanning': 1166,\n",
      " 'special': 1167,\n",
      " 'specification': 1168,\n",
      " 'specifications': 1169,\n",
      " 'specular': 1170,\n",
      " 'speed': 1171,\n",
      " 'speedup': 1172,\n",
      " 'spline': 1173,\n",
      " 'splines': 1174,\n",
      " 'spss': 1175,\n",
      " 'sql': 1176,\n",
      " 'square': 1177,\n",
      " 'stability': 1178,\n",
      " 'stacks': 1179,\n",
      " 'stages': 1180,\n",
      " 'staggered': 1181,\n",
      " 'start': 1182,\n",
      " 'starvation': 1183,\n",
      " 'state': 1184,\n",
      " 'statements': 1185,\n",
      " 'static': 1186,\n",
      " 'statistical': 1187,\n",
      " 'statistics': 1188,\n",
      " 'steepest': 1189,\n",
      " 'step': 1190,\n",
      " 'stereoscopic': 1191,\n",
      " 'stl': 1192,\n",
      " 'stochastic': 1193,\n",
      " 'stop': 1194,\n",
      " 'storage': 1195,\n",
      " 'store': 1196,\n",
      " 'strategic': 1197,\n",
      " 'strategies': 1198,\n",
      " 'strategy': 1199,\n",
      " 'string': 1200,\n",
      " 'strings': 1201,\n",
      " 'strongly': 1202,\n",
      " 'structure': 1203,\n",
      " 'structured': 1204,\n",
      " 'structures': 1205,\n",
      " 'structuring': 1206,\n",
      " 'stubblebine': 1207,\n",
      " 'students': 1208,\n",
      " 'study': 1209,\n",
      " 'styles': 1210,\n",
      " 'subclasses': 1211,\n",
      " 'subject': 1212,\n",
      " 'subjects': 1213,\n",
      " 'subroutines': 1214,\n",
      " 'substitution': 1215,\n",
      " 'substring': 1216,\n",
      " 'subsystem': 1217,\n",
      " 'suffix': 1218,\n",
      " 'suite': 1219,\n",
      " 'summary': 1220,\n",
      " 'supervised': 1221,\n",
      " 'support': 1222,\n",
      " 'supporting': 1223,\n",
      " 'surface': 1224,\n",
      " 'surfaces': 1225,\n",
      " 'surjection': 1226,\n",
      " 'survey': 1227,\n",
      " 'swapping': 1228,\n",
      " 'swarm': 1229,\n",
      " 'switching': 1230,\n",
      " 'symbol': 1231,\n",
      " 'symbolic': 1232,\n",
      " 'synchornization': 1233,\n",
      " 'synchronization': 1234,\n",
      " 'synchronous': 1235,\n",
      " 'syntax': 1236,\n",
      " 'synthesis': 1237,\n",
      " 'systems': 1238,\n",
      " 'table': 1239,\n",
      " 'tableau': 1240,\n",
      " 'tableaux': 1241,\n",
      " 'tables': 1242,\n",
      " 'target': 1243,\n",
      " 'task': 1244,\n",
      " 'tasm': 1245,\n",
      " 'tcp': 1246,\n",
      " 'technical': 1247,\n",
      " 'techniques': 1248,\n",
      " 'technologies': 1249,\n",
      " 'technology': 1250,\n",
      " 'templates': 1251,\n",
      " 'tensors': 1252,\n",
      " 'terminology': 1253,\n",
      " 'tessellation': 1254,\n",
      " 'test': 1255,\n",
      " 'testing': 1256,\n",
      " 'tests': 1257,\n",
      " 'text': 1258,\n",
      " 'texture': 1259,\n",
      " 'theorem': 1260,\n",
      " 'theoretical': 1261,\n",
      " 'theories': 1262,\n",
      " 'theory': 1263,\n",
      " 'thesis': 1264,\n",
      " 'threads': 1265,\n",
      " 'threshold': 1266,\n",
      " 'time': 1267,\n",
      " 'token': 1268,\n",
      " 'toning': 1269,\n",
      " 'tools': 1270,\n",
      " 'topdown': 1271,\n",
      " 'topics': 1272,\n",
      " 'topography': 1273,\n",
      " 'topologies': 1274,\n",
      " 'tours': 1275,\n",
      " 'towers': 1276,\n",
      " 'tracing': 1277,\n",
      " 'tracking': 1278,\n",
      " 'tradeoff': 1279,\n",
      " 'training': 1280,\n",
      " 'transfer': 1281,\n",
      " 'transform': 1282,\n",
      " 'transformation': 1283,\n",
      " 'transformational': 1284,\n",
      " 'transformations': 1285,\n",
      " 'transforms': 1286,\n",
      " 'transients': 1287,\n",
      " 'translation': 1288,\n",
      " 'transmission': 1289,\n",
      " 'trapezoidal': 1290,\n",
      " 'traversal': 1291,\n",
      " 'treatise': 1292,\n",
      " 'treatment': 1293,\n",
      " 'tree': 1294,\n",
      " 'trees': 1295,\n",
      " 'triangulation': 1296,\n",
      " 'truth': 1297,\n",
      " 'tsp': 1298,\n",
      " 'turing': 1299,\n",
      " 'tutorials': 1300,\n",
      " 'tvd': 1301,\n",
      " 'twos': 1302,\n",
      " 'type': 1303,\n",
      " 'types': 1304,\n",
      " 'typical': 1305,\n",
      " 'udp': 1306,\n",
      " 'uncertainty': 1307,\n",
      " 'unconstrained': 1308,\n",
      " 'undirected': 1309,\n",
      " 'unification': 1310,\n",
      " 'uniform': 1311,\n",
      " 'union': 1312,\n",
      " 'uniqueness': 1313,\n",
      " 'unit': 1314,\n",
      " 'universal': 1315,\n",
      " 'unpredictable': 1316,\n",
      " 'unrestricted': 1317,\n",
      " 'unsupervised': 1318,\n",
      " 'usability': 1319,\n",
      " 'use': 1320,\n",
      " 'used': 1321,\n",
      " 'user': 1322,\n",
      " 'using': 1323,\n",
      " 'validating': 1324,\n",
      " 'validation': 1325,\n",
      " 'validity': 1326,\n",
      " 'value': 1327,\n",
      " 'vapnik': 1328,\n",
      " 'variable': 1329,\n",
      " 'variables': 1330,\n",
      " 'variance': 1331,\n",
      " 'variants': 1332,\n",
      " 'varieties': 1333,\n",
      " 'vector': 1334,\n",
      " 'velocity': 1335,\n",
      " 'verification': 1336,\n",
      " 'vertex': 1337,\n",
      " 'video': 1338,\n",
      " 'viewer': 1339,\n",
      " 'viewing': 1340,\n",
      " 'views': 1341,\n",
      " 'virtual': 1342,\n",
      " 'visibility': 1343,\n",
      " 'visual': 1344,\n",
      " 'visualization': 1345,\n",
      " 'voice': 1346,\n",
      " 'volume': 1347,\n",
      " 'vr': 1348,\n",
      " 'vs': 1349,\n",
      " 'wait': 1350,\n",
      " 'walkthrough': 1351,\n",
      " 'warshall': 1352,\n",
      " 'web': 1353,\n",
      " 'white': 1354,\n",
      " 'wide': 1355,\n",
      " 'windows': 1356,\n",
      " 'wireless': 1357,\n",
      " 'work': 1358,\n",
      " 'workspaces': 1359,\n",
      " 'world': 1360,\n",
      " 'worst': 1361,\n",
      " 'wrong': 1362,\n",
      " 'zivlempel': 1363}\n"
     ]
    }
   ],
   "source": [
    "pp.pprint(vectorizer.vocabulary_)"
   ]
  },
  {
   "cell_type": "code",
   "execution_count": 10,
   "metadata": {
    "ExecuteTime": {
     "end_time": "2019-06-20T15:36:32.328998Z",
     "start_time": "2019-06-20T15:36:32.309286Z"
    }
   },
   "outputs": [
    {
     "name": "stdout",
     "output_type": "stream",
     "text": [
      "('FORTRAN Programming language: Constants and variables, Intrinsic functions, '\n",
      " 'Loops, Conditional statements, Arrays - Array operations in FORTRAN 95, '\n",
      " 'Functions and subroutines MATLAB programming, Using derive, Applications.')\n"
     ]
    },
    {
     "data": {
      "text/html": [
       "<div>\n",
       "<style scoped>\n",
       "    .dataframe tbody tr th:only-of-type {\n",
       "        vertical-align: middle;\n",
       "    }\n",
       "\n",
       "    .dataframe tbody tr th {\n",
       "        vertical-align: top;\n",
       "    }\n",
       "\n",
       "    .dataframe thead th {\n",
       "        text-align: right;\n",
       "    }\n",
       "</style>\n",
       "<table border=\"1\" class=\"dataframe\">\n",
       "  <thead>\n",
       "    <tr style=\"text-align: right;\">\n",
       "      <th></th>\n",
       "      <th>95</th>\n",
       "      <th>applications</th>\n",
       "      <th>array</th>\n",
       "      <th>arrays</th>\n",
       "      <th>conditional</th>\n",
       "      <th>constants</th>\n",
       "      <th>derive</th>\n",
       "      <th>fortran</th>\n",
       "      <th>functions</th>\n",
       "      <th>intrinsic</th>\n",
       "      <th>language</th>\n",
       "      <th>loops</th>\n",
       "      <th>matlab</th>\n",
       "      <th>operations</th>\n",
       "      <th>programming</th>\n",
       "      <th>statements</th>\n",
       "      <th>subroutines</th>\n",
       "      <th>using</th>\n",
       "      <th>variables</th>\n",
       "    </tr>\n",
       "  </thead>\n",
       "  <tbody>\n",
       "    <tr>\n",
       "      <th>0</th>\n",
       "      <td>0.188982</td>\n",
       "      <td>0.188982</td>\n",
       "      <td>0.188982</td>\n",
       "      <td>0.188982</td>\n",
       "      <td>0.188982</td>\n",
       "      <td>0.188982</td>\n",
       "      <td>0.188982</td>\n",
       "      <td>0.377964</td>\n",
       "      <td>0.377964</td>\n",
       "      <td>0.188982</td>\n",
       "      <td>0.188982</td>\n",
       "      <td>0.188982</td>\n",
       "      <td>0.188982</td>\n",
       "      <td>0.188982</td>\n",
       "      <td>0.377964</td>\n",
       "      <td>0.188982</td>\n",
       "      <td>0.188982</td>\n",
       "      <td>0.188982</td>\n",
       "      <td>0.188982</td>\n",
       "    </tr>\n",
       "  </tbody>\n",
       "</table>\n",
       "</div>"
      ],
      "text/plain": [
       "         95  applications     array    arrays  conditional  constants  \\\n",
       "0  0.188982      0.188982  0.188982  0.188982     0.188982   0.188982   \n",
       "\n",
       "     derive   fortran  functions  intrinsic  language     loops    matlab  \\\n",
       "0  0.188982  0.377964   0.377964   0.188982  0.188982  0.188982  0.188982   \n",
       "\n",
       "   operations  programming  statements  subroutines     using  variables  \n",
       "0    0.188982     0.377964    0.188982     0.188982  0.188982   0.188982  "
      ]
     },
     "execution_count": 10,
     "metadata": {},
     "output_type": "execute_result"
    }
   ],
   "source": [
    "pp.pprint(df[\"Content\"][0])\n",
    "dummy = pd.DataFrame(vectorizer.fit_transform([df[\"Content\"][0]]).todense(),columns = vectorizer.get_feature_names())\n",
    "dummy"
   ]
  },
  {
   "cell_type": "code",
   "execution_count": 11,
   "metadata": {
    "ExecuteTime": {
     "end_time": "2019-06-20T15:36:32.415405Z",
     "start_time": "2019-06-20T15:36:32.331027Z"
    }
   },
   "outputs": [
    {
     "name": "stdout",
     "output_type": "stream",
     "text": [
      "('FORTRAN Programming language: Constants and variables, Intrinsic functions, '\n",
      " 'Loops, Conditional statements, Arrays - Array operations in FORTRAN 95, '\n",
      " 'Functions and subroutines MATLAB programming, Using derive, Applications.')\n"
     ]
    },
    {
     "data": {
      "text/html": [
       "<div>\n",
       "<style scoped>\n",
       "    .dataframe tbody tr th:only-of-type {\n",
       "        vertical-align: middle;\n",
       "    }\n",
       "\n",
       "    .dataframe tbody tr th {\n",
       "        vertical-align: top;\n",
       "    }\n",
       "\n",
       "    .dataframe thead th {\n",
       "        text-align: right;\n",
       "    }\n",
       "</style>\n",
       "<table border=\"1\" class=\"dataframe\">\n",
       "  <thead>\n",
       "    <tr style=\"text-align: right;\">\n",
       "      <th></th>\n",
       "      <th>95</th>\n",
       "      <th>applications</th>\n",
       "      <th>array</th>\n",
       "      <th>arrays</th>\n",
       "      <th>conditional</th>\n",
       "      <th>constants</th>\n",
       "      <th>derive</th>\n",
       "      <th>fortran</th>\n",
       "      <th>functions</th>\n",
       "      <th>intrinsic</th>\n",
       "      <th>language</th>\n",
       "      <th>loops</th>\n",
       "      <th>matlab</th>\n",
       "      <th>operations</th>\n",
       "      <th>programming</th>\n",
       "      <th>statements</th>\n",
       "      <th>subroutines</th>\n",
       "      <th>using</th>\n",
       "      <th>variables</th>\n",
       "    </tr>\n",
       "  </thead>\n",
       "  <tbody>\n",
       "    <tr>\n",
       "      <th>0</th>\n",
       "      <td>1</td>\n",
       "      <td>1</td>\n",
       "      <td>1</td>\n",
       "      <td>1</td>\n",
       "      <td>1</td>\n",
       "      <td>1</td>\n",
       "      <td>1</td>\n",
       "      <td>2</td>\n",
       "      <td>2</td>\n",
       "      <td>1</td>\n",
       "      <td>1</td>\n",
       "      <td>1</td>\n",
       "      <td>1</td>\n",
       "      <td>1</td>\n",
       "      <td>2</td>\n",
       "      <td>1</td>\n",
       "      <td>1</td>\n",
       "      <td>1</td>\n",
       "      <td>1</td>\n",
       "    </tr>\n",
       "  </tbody>\n",
       "</table>\n",
       "</div>"
      ],
      "text/plain": [
       "   95  applications  array  arrays  conditional  constants  derive  fortran  \\\n",
       "0   1             1      1       1            1          1       1        2   \n",
       "\n",
       "   functions  intrinsic  language  loops  matlab  operations  programming  \\\n",
       "0          2          1         1      1       1           1            2   \n",
       "\n",
       "   statements  subroutines  using  variables  \n",
       "0           1            1      1          1  "
      ]
     },
     "execution_count": 11,
     "metadata": {},
     "output_type": "execute_result"
    }
   ],
   "source": [
    "pp.pprint(df[\"Content\"][0])\n",
    "dummy = pd.DataFrame(CountVectorizer(stop_words = 'english').fit_transform([df[\"Content\"][0]]).todense(),columns = vectorizer.get_feature_names())\n",
    "dummy"
   ]
  },
  {
   "cell_type": "code",
   "execution_count": 12,
   "metadata": {
    "ExecuteTime": {
     "end_time": "2019-06-20T15:36:32.485114Z",
     "start_time": "2019-06-20T15:36:32.416929Z"
    }
   },
   "outputs": [
    {
     "name": "stdout",
     "output_type": "stream",
     "text": [
      "(44, 1364)\n"
     ]
    }
   ],
   "source": [
    "print(features.shape)"
   ]
  },
  {
   "cell_type": "markdown",
   "metadata": {},
   "source": [
    "### 44 Document & 1364 word in our vocabulary"
   ]
  },
  {
   "cell_type": "code",
   "execution_count": 13,
   "metadata": {
    "ExecuteTime": {
     "end_time": "2019-06-20T15:36:32.559664Z",
     "start_time": "2019-06-20T15:36:32.486592Z"
    }
   },
   "outputs": [
    {
     "name": "stdout",
     "output_type": "stream",
     "text": [
      "44\n"
     ]
    }
   ],
   "source": [
    "print(len(features))"
   ]
  },
  {
   "cell_type": "markdown",
   "metadata": {},
   "source": [
    "# K-Means Clustering"
   ]
  },
  {
   "cell_type": "markdown",
   "metadata": {},
   "source": [
    "K-means clustering is one of the most popular unsupervised machine learning algorithms.\n",
    "\n",
    "The objective of K-means is simple: group similar data points together and discover underlying patterns. To achieve this objective, K-means looks for a fixed number (k) of clusters in a dataset.\n",
    "\n",
    "A cluster refers to a collection of data points aggregated together because of certain similarities.\n",
    "\n",
    "### How does it work?\n",
    "\n",
    "We will define a target number k, which refers to the number of centroids we need in the dataset.\n",
    "        A centroid is the imaginary or real location representing the center of the cluster.\n",
    "\n",
    " Every data point is allocated to each of the clusters through reducing the Inter-cluster sum of squares.\n",
    "\n",
    "In other words, the K-means algorithm identifies k number of centroids, and then allocates every data point to the nearest cluster, while keeping the centroids as small as possible.\n",
    "\n",
    "      The ‘means’ in the K-means refers to averaging of the data; that is, finding the centroid.\n",
    "\n",
    "![Sorry, couldn't find image](./images/kmeans1.png \"K-Means\")\n"
   ]
  },
  {
   "cell_type": "markdown",
   "metadata": {},
   "source": [
    "## Import it"
   ]
  },
  {
   "cell_type": "code",
   "execution_count": 14,
   "metadata": {
    "ExecuteTime": {
     "end_time": "2019-06-20T15:36:32.693799Z",
     "start_time": "2019-06-20T15:36:32.561179Z"
    }
   },
   "outputs": [],
   "source": [
    "from sklearn.cluster import KMeans"
   ]
  },
  {
   "cell_type": "code",
   "execution_count": 15,
   "metadata": {
    "ExecuteTime": {
     "end_time": "2019-06-20T15:36:32.846606Z",
     "start_time": "2019-06-20T15:36:32.695144Z"
    }
   },
   "outputs": [],
   "source": [
    "n_clusters = 14"
   ]
  },
  {
   "cell_type": "code",
   "execution_count": 16,
   "metadata": {
    "ExecuteTime": {
     "end_time": "2019-06-20T15:36:32.927645Z",
     "start_time": "2019-06-20T15:36:32.847981Z"
    }
   },
   "outputs": [],
   "source": [
    "def checkSameCluster(df, courseIndex, test_courseIndex, n_clusters):\n",
    "    \n",
    "    #Check if the two courses are in the same cluster\n",
    "    \n",
    "    \"\"\"\n",
    "\n",
    "    Arguments:\n",
    "    df -- DataFrame of all the courses data [\"Code\", \"Name\", \"Content\"]\n",
    "    courseIndex -- First course we want to test\n",
    "    test_courseIndex -- Second course we want to test\n",
    "    n_clusters -- Number of clusters we want to assign all courses to\n",
    "\n",
    "    Returns:\n",
    "    \n",
    "    kmeans.labels_ -- Cluster to which each course is assigned\n",
    "    res[0] (Boolean value) -- Whether the two courses are in the same cluster or not\n",
    "    \n",
    "    \"\"\"\n",
    "    \n",
    "    # Feature extraction\n",
    "    tfidf_vectorizer = TfidfVectorizer(stop_words = 'english')\n",
    "    tfidf = tfidf_vectorizer.fit_transform(df[\"Content\"])\n",
    "    \n",
    "    # Fitting model\n",
    "    kmeans = KMeans(n_clusters).fit(tfidf)\n",
    "    \n",
    "    # Test similarity\n",
    "    test_courses = [df.iloc[courseIndex][\"Content\"], df.iloc[test_courseIndex][\"Content\"]]\n",
    "    \n",
    "    # see which cources belong to which cluster \n",
    "    #print(kmeans.labels_)\n",
    "    \n",
    "    #print(len(kmeans.labels_))  #gives 44 as there are 44 courses\n",
    "    \n",
    "    res = kmeans.predict(tfidf_vectorizer.transform(test_courses))\n",
    "    \n",
    "    return kmeans.labels_, res[0] == res[1]"
   ]
  },
  {
   "cell_type": "code",
   "execution_count": 17,
   "metadata": {
    "ExecuteTime": {
     "end_time": "2019-06-20T15:36:33.461250Z",
     "start_time": "2019-06-20T15:36:32.929053Z"
    },
    "scrolled": true
   },
   "outputs": [
    {
     "name": "stdout",
     "output_type": "stream",
     "text": [
      "True\n"
     ]
    },
    {
     "data": {
      "text/html": [
       "<div>\n",
       "<style scoped>\n",
       "    .dataframe tbody tr th:only-of-type {\n",
       "        vertical-align: middle;\n",
       "    }\n",
       "\n",
       "    .dataframe tbody tr th {\n",
       "        vertical-align: top;\n",
       "    }\n",
       "\n",
       "    .dataframe thead th {\n",
       "        text-align: right;\n",
       "    }\n",
       "</style>\n",
       "<table border=\"1\" class=\"dataframe\">\n",
       "  <thead>\n",
       "    <tr style=\"text-align: right;\">\n",
       "      <th></th>\n",
       "      <th>Assigned To Cluster</th>\n",
       "    </tr>\n",
       "  </thead>\n",
       "  <tbody>\n",
       "    <tr>\n",
       "      <th>0</th>\n",
       "      <td>10</td>\n",
       "    </tr>\n",
       "    <tr>\n",
       "      <th>1</th>\n",
       "      <td>10</td>\n",
       "    </tr>\n",
       "    <tr>\n",
       "      <th>2</th>\n",
       "      <td>10</td>\n",
       "    </tr>\n",
       "    <tr>\n",
       "      <th>3</th>\n",
       "      <td>5</td>\n",
       "    </tr>\n",
       "    <tr>\n",
       "      <th>4</th>\n",
       "      <td>7</td>\n",
       "    </tr>\n",
       "    <tr>\n",
       "      <th>5</th>\n",
       "      <td>9</td>\n",
       "    </tr>\n",
       "    <tr>\n",
       "      <th>6</th>\n",
       "      <td>11</td>\n",
       "    </tr>\n",
       "    <tr>\n",
       "      <th>7</th>\n",
       "      <td>5</td>\n",
       "    </tr>\n",
       "    <tr>\n",
       "      <th>8</th>\n",
       "      <td>4</td>\n",
       "    </tr>\n",
       "    <tr>\n",
       "      <th>9</th>\n",
       "      <td>10</td>\n",
       "    </tr>\n",
       "    <tr>\n",
       "      <th>10</th>\n",
       "      <td>3</td>\n",
       "    </tr>\n",
       "    <tr>\n",
       "      <th>11</th>\n",
       "      <td>5</td>\n",
       "    </tr>\n",
       "    <tr>\n",
       "      <th>12</th>\n",
       "      <td>12</td>\n",
       "    </tr>\n",
       "    <tr>\n",
       "      <th>13</th>\n",
       "      <td>1</td>\n",
       "    </tr>\n",
       "    <tr>\n",
       "      <th>14</th>\n",
       "      <td>4</td>\n",
       "    </tr>\n",
       "    <tr>\n",
       "      <th>15</th>\n",
       "      <td>11</td>\n",
       "    </tr>\n",
       "    <tr>\n",
       "      <th>16</th>\n",
       "      <td>1</td>\n",
       "    </tr>\n",
       "    <tr>\n",
       "      <th>17</th>\n",
       "      <td>7</td>\n",
       "    </tr>\n",
       "    <tr>\n",
       "      <th>18</th>\n",
       "      <td>4</td>\n",
       "    </tr>\n",
       "    <tr>\n",
       "      <th>19</th>\n",
       "      <td>7</td>\n",
       "    </tr>\n",
       "    <tr>\n",
       "      <th>20</th>\n",
       "      <td>9</td>\n",
       "    </tr>\n",
       "    <tr>\n",
       "      <th>21</th>\n",
       "      <td>3</td>\n",
       "    </tr>\n",
       "    <tr>\n",
       "      <th>22</th>\n",
       "      <td>3</td>\n",
       "    </tr>\n",
       "    <tr>\n",
       "      <th>23</th>\n",
       "      <td>6</td>\n",
       "    </tr>\n",
       "    <tr>\n",
       "      <th>24</th>\n",
       "      <td>0</td>\n",
       "    </tr>\n",
       "    <tr>\n",
       "      <th>25</th>\n",
       "      <td>3</td>\n",
       "    </tr>\n",
       "    <tr>\n",
       "      <th>26</th>\n",
       "      <td>9</td>\n",
       "    </tr>\n",
       "    <tr>\n",
       "      <th>27</th>\n",
       "      <td>8</td>\n",
       "    </tr>\n",
       "    <tr>\n",
       "      <th>28</th>\n",
       "      <td>7</td>\n",
       "    </tr>\n",
       "    <tr>\n",
       "      <th>29</th>\n",
       "      <td>1</td>\n",
       "    </tr>\n",
       "    <tr>\n",
       "      <th>30</th>\n",
       "      <td>7</td>\n",
       "    </tr>\n",
       "    <tr>\n",
       "      <th>31</th>\n",
       "      <td>13</td>\n",
       "    </tr>\n",
       "    <tr>\n",
       "      <th>32</th>\n",
       "      <td>2</td>\n",
       "    </tr>\n",
       "    <tr>\n",
       "      <th>33</th>\n",
       "      <td>2</td>\n",
       "    </tr>\n",
       "    <tr>\n",
       "      <th>34</th>\n",
       "      <td>1</td>\n",
       "    </tr>\n",
       "    <tr>\n",
       "      <th>35</th>\n",
       "      <td>6</td>\n",
       "    </tr>\n",
       "    <tr>\n",
       "      <th>36</th>\n",
       "      <td>3</td>\n",
       "    </tr>\n",
       "    <tr>\n",
       "      <th>37</th>\n",
       "      <td>0</td>\n",
       "    </tr>\n",
       "    <tr>\n",
       "      <th>38</th>\n",
       "      <td>3</td>\n",
       "    </tr>\n",
       "    <tr>\n",
       "      <th>39</th>\n",
       "      <td>6</td>\n",
       "    </tr>\n",
       "    <tr>\n",
       "      <th>40</th>\n",
       "      <td>2</td>\n",
       "    </tr>\n",
       "    <tr>\n",
       "      <th>41</th>\n",
       "      <td>6</td>\n",
       "    </tr>\n",
       "    <tr>\n",
       "      <th>42</th>\n",
       "      <td>13</td>\n",
       "    </tr>\n",
       "    <tr>\n",
       "      <th>43</th>\n",
       "      <td>5</td>\n",
       "    </tr>\n",
       "  </tbody>\n",
       "</table>\n",
       "</div>"
      ],
      "text/plain": [
       "    Assigned To Cluster\n",
       "0                    10\n",
       "1                    10\n",
       "2                    10\n",
       "3                     5\n",
       "4                     7\n",
       "5                     9\n",
       "6                    11\n",
       "7                     5\n",
       "8                     4\n",
       "9                    10\n",
       "10                    3\n",
       "11                    5\n",
       "12                   12\n",
       "13                    1\n",
       "14                    4\n",
       "15                   11\n",
       "16                    1\n",
       "17                    7\n",
       "18                    4\n",
       "19                    7\n",
       "20                    9\n",
       "21                    3\n",
       "22                    3\n",
       "23                    6\n",
       "24                    0\n",
       "25                    3\n",
       "26                    9\n",
       "27                    8\n",
       "28                    7\n",
       "29                    1\n",
       "30                    7\n",
       "31                   13\n",
       "32                    2\n",
       "33                    2\n",
       "34                    1\n",
       "35                    6\n",
       "36                    3\n",
       "37                    0\n",
       "38                    3\n",
       "39                    6\n",
       "40                    2\n",
       "41                    6\n",
       "42                   13\n",
       "43                    5"
      ]
     },
     "execution_count": 17,
     "metadata": {},
     "output_type": "execute_result"
    }
   ],
   "source": [
    "res = checkSameCluster(df, courseIndex, 13, n_clusters)    #ML with AI\n",
    "print(res[1])\n",
    "resdf = pd.DataFrame(res[0], columns= [\"Assigned To Cluster\"])\n",
    "resdf"
   ]
  },
  {
   "cell_type": "markdown",
   "metadata": {},
   "source": [
    "## Function to get cluster courses (similars)\n",
    "#### API"
   ]
  },
  {
   "cell_type": "code",
   "execution_count": 18,
   "metadata": {
    "ExecuteTime": {
     "end_time": "2019-06-20T15:36:33.474351Z",
     "start_time": "2019-06-20T15:36:33.463415Z"
    }
   },
   "outputs": [],
   "source": [
    "def getSimsKM(df, courseIndex, resdf, n_clusters):\n",
    "    \n",
    "    #Get similar courses; the ones in the same cluster\n",
    "    \n",
    "    \"\"\"\n",
    "\n",
    "    Arguments:\n",
    "    \n",
    "    df -- DataFrame of all the courses data [\"Code\", \"Name\", \"Content\"]\n",
    "    courseIndex -- Course we want to get its similars\n",
    "    resdf -- Result DataFrame; which has each course index mapped to its assigned cluster\n",
    "    n_clusters -- Number of clusters we assigned all courses to\n",
    "\n",
    "    Returns:\n",
    "    \n",
    "    s -- List of similar courses to the given course\n",
    "    \n",
    "    \"\"\"\n",
    "    \n",
    "    s = []\n",
    "    cluster = resdf.iloc[courseIndex][\"Assigned To Cluster\"]\n",
    "    for c in range(len(resdf)):\n",
    "        if resdf.iloc[c][\"Assigned To Cluster\"] == cluster:\n",
    "            #print(df.iloc[c][\"Code\"])\n",
    "            s.append(c)\n",
    "\n",
    "    return s"
   ]
  },
  {
   "cell_type": "code",
   "execution_count": 19,
   "metadata": {
    "ExecuteTime": {
     "end_time": "2019-06-20T15:36:33.595999Z",
     "start_time": "2019-06-20T15:36:33.475636Z"
    }
   },
   "outputs": [
    {
     "data": {
      "text/plain": [
       "[13, 16, 29, 34]"
      ]
     },
     "execution_count": 19,
     "metadata": {},
     "output_type": "execute_result"
    }
   ],
   "source": [
    "s = getSimsKM(df, courseIndex, resdf, n_clusters)\n",
    "s"
   ]
  },
  {
   "cell_type": "markdown",
   "metadata": {},
   "source": [
    "## Print them"
   ]
  },
  {
   "cell_type": "code",
   "execution_count": 20,
   "metadata": {
    "ExecuteTime": {
     "end_time": "2019-06-20T15:36:33.678499Z",
     "start_time": "2019-06-20T15:36:33.598684Z"
    }
   },
   "outputs": [],
   "source": [
    "def printSimilarsKM(df, s, courseIndex, n_clusters):\n",
    "    \n",
    "    #Print similar courses\n",
    "    \n",
    "    \"\"\"\n",
    "\n",
    "    Arguments:\n",
    "    \n",
    "    df -- DataFrame of all the courses data [\"Code\", \"Name\", \"Content\"]\n",
    "    s -- List of similar courses\n",
    "    courseIndex -- Course we wanted to find its similars\n",
    "    n_clusters -- Number of clusters we want to assign all courses to\n",
    "\n",
    "    Returns:\n",
    "    \n",
    "    kmeans.labels_ -- Labels of each point\n",
    "    Boolean value -- Whether the two courses are in the same cluster\n",
    "    \n",
    "    \"\"\"\n",
    "    \n",
    "    print(\"Courses similar to \"+df.iloc[courseIndex][\"Name\"]+\" are:\",'\\n')\n",
    "    \n",
    "    for i in range(len(s)):\n",
    "        if s[i] != courseIndex:\n",
    "            print(df.iloc[s[i]])"
   ]
  },
  {
   "cell_type": "code",
   "execution_count": 21,
   "metadata": {
    "ExecuteTime": {
     "end_time": "2019-06-20T15:36:33.763158Z",
     "start_time": "2019-06-20T15:36:33.679833Z"
    }
   },
   "outputs": [
    {
     "name": "stdout",
     "output_type": "stream",
     "text": [
      "Courses similar to Machine Learning are: \n",
      "\n",
      "Code                                                   CS303\n",
      "Name                                 Artificial Intelligence\n",
      "Content    Definitions of intelligent systems, Optimality...\n",
      "Name: 13, dtype: object\n",
      "Code                                                   CS306\n",
      "Name                           Logic and Automated Reasoning\n",
      "Content    Elementary set theory, Propositional logic, Pr...\n",
      "Name: 16, dtype: object\n",
      "Code                                                   CS319\n",
      "Name                          Tools for e-learning Education\n",
      "Content    Overview of principles and tools used in e-Lea...\n",
      "Name: 29, dtype: object\n"
     ]
    }
   ],
   "source": [
    "printSimilarsKM(df, s, courseIndex, n_clusters)"
   ]
  },
  {
   "cell_type": "markdown",
   "metadata": {},
   "source": [
    "# How do we know we chose the right k, no more, no less?"
   ]
  },
  {
   "cell_type": "markdown",
   "metadata": {
    "ExecuteTime": {
     "end_time": "2019-06-18T13:28:39.070163Z",
     "start_time": "2019-06-18T13:28:38.588949Z"
    }
   },
   "source": [
    "## Evaluation\n",
    "### Elbow method\n",
    "\n",
    "Recall that, the basic idea behind partitioning methods, such as k-means clustering, is to define clusters such that the total intra-cluster variation [or total within-cluster sum of square (WSS)] is minimized. \n",
    "The total WSS measures the compactness of the clustering and we want it to be as small as possible.\n",
    "\n",
    "The Elbow method looks at the total WSS as a function of the number of clusters: One should choose a number of clusters so that adding another cluster doesn’t improve much better the total WSS.\n",
    "\n",
    "![Sorry, couldn't find image](./images/elbow.png \"Elbow method\")\n",
    "\n"
   ]
  },
  {
   "cell_type": "code",
   "execution_count": 22,
   "metadata": {
    "ExecuteTime": {
     "end_time": "2019-06-20T15:36:37.767399Z",
     "start_time": "2019-06-20T15:36:33.764753Z"
    }
   },
   "outputs": [
    {
     "data": {
      "text/plain": [
       "Text(0, 0.5, 'Sum squared distance')"
      ]
     },
     "execution_count": 22,
     "metadata": {},
     "output_type": "execute_result"
    },
    {
     "data": {
      "image/png": "[encoded data removed]",
      "text/plain": [
       "<Figure size 576x576 with 1 Axes>"
      ]
     },
     "metadata": {
      "needs_background": "light"
     },
     "output_type": "display_data"
    }
   ],
   "source": [
    "sse = []\n",
    "kRange = list(range(1, 30))\n",
    "\n",
    "tfidf_vectorizer = TfidfVectorizer(stop_words = 'english')\n",
    "tfidf = tfidf_vectorizer.fit_transform(df[\"Content\"])\n",
    "    \n",
    "for k in kRange:\n",
    "    km = KMeans(n_clusters=k)\n",
    "    km.fit(tfidf)\n",
    "    sse.append(km.inertia_)\n",
    "\n",
    "# Plot sse against k\n",
    "plt.figure(figsize=(8, 8))\n",
    "plt.plot(kRange, sse, '-o')\n",
    "plt.xlabel('Number of clusters k')\n",
    "plt.ylabel('Sum squared distance')"
   ]
  },
  {
   "cell_type": "markdown",
   "metadata": {},
   "source": [
    "It's not showing a uniform elbow-like shape, so we will stick with 14 as it doesn't change even with k = more\n",
    "#### The more clusters we make, the less number of courses per cluster thus more entropy"
   ]
  },
  {
   "cell_type": "markdown",
   "metadata": {},
   "source": [
    "## Try another visualization to evaluate"
   ]
  },
  {
   "cell_type": "code",
   "execution_count": 23,
   "metadata": {
    "ExecuteTime": {
     "end_time": "2019-06-20T15:36:37.790198Z",
     "start_time": "2019-06-20T15:36:37.772466Z"
    }
   },
   "outputs": [],
   "source": [
    "from yellowbrick.cluster import KElbowVisualizer"
   ]
  },
  {
   "cell_type": "code",
   "execution_count": 24,
   "metadata": {
    "ExecuteTime": {
     "end_time": "2019-06-20T15:36:41.950689Z",
     "start_time": "2019-06-20T15:36:37.793286Z"
    }
   },
   "outputs": [
    {
     "data": {
      "image/png": "[encoded data removed]",
      "text/plain": [
       "<Figure size 576x396 with 1 Axes>"
      ]
     },
     "metadata": {},
     "output_type": "display_data"
    }
   ],
   "source": [
    "model = KMeans()\n",
    "visualizer = KElbowVisualizer(model, k=(2,30), metric='calinski_harabaz', timings=False)\n",
    "\n",
    "visualizer.fit(tfidf.toarray())    # Fit the data to the visualizer\n",
    "visualizer.poof()    # Draw the data"
   ]
  },
  {
   "cell_type": "markdown",
   "metadata": {},
   "source": [
    "**Maybe K-means is not the best algorithm for our problem!**\n",
    "Let's try another"
   ]
  },
  {
   "cell_type": "markdown",
   "metadata": {},
   "source": [
    "#  \n",
    "# KNN (K Nearest Neighbors)"
   ]
  },
  {
   "cell_type": "markdown",
   "metadata": {},
   "source": [
    "The KNN algorithm assumes that similar things exist in close proximity. In other words, similar things are near to each other. “Birds of a feather flock together.”\n",
    "\n",
    "![Sorry, couldn't find image](./images/knn1.png \"KNN\")\n",
    "\n",
    "Notice in the image above that most of the time, similar data points are close to each other. The KNN algorithm hinges on this assumption being true enough for the algorithm to be useful. KNN captures the idea of similarity (sometimes called distance, proximity, or closeness) with some mathematics we might have learned in our childhood— calculating the distance between points on a graph.\n",
    "\n",
    "# Scikit-learn has an unsupervised version on KNN\n",
    "\n",
    "**Unsupervised KNN, yes, you read it right!**\n",
    "#### Reference: https://scikit-learn.org/stable/modules/generated/sklearn.neighbors.NearestNeighbors.html#sklearn.neighbors.NearestNeighbors\n",
    "The unsupervised KNN does not associate a label to instances. (hence the unsupervised term, da!)\n",
    "All it can do is tell you what instances in your training data is k-nearest to the point you are testing for.\n",
    "\n",
    "## Which is PERFECT for our case"
   ]
  },
  {
   "cell_type": "markdown",
   "metadata": {
    "ExecuteTime": {
     "end_time": "2019-06-20T04:04:41.522136Z",
     "start_time": "2019-06-20T04:04:41.370134Z"
    }
   },
   "source": [
    "![Sorry, couldn't find image](./images/knn2.jpeg \"KNN Meme\")"
   ]
  },
  {
   "cell_type": "markdown",
   "metadata": {},
   "source": [
    "## Import it"
   ]
  },
  {
   "cell_type": "code",
   "execution_count": 25,
   "metadata": {
    "ExecuteTime": {
     "end_time": "2019-06-20T15:36:41.954353Z",
     "start_time": "2019-06-20T15:36:41.952061Z"
    }
   },
   "outputs": [],
   "source": [
    "from sklearn.neighbors import NearestNeighbors"
   ]
  },
  {
   "cell_type": "markdown",
   "metadata": {},
   "source": [
    "## Define number of neighbors (similar courses)"
   ]
  },
  {
   "cell_type": "code",
   "execution_count": 26,
   "metadata": {
    "ExecuteTime": {
     "end_time": "2019-06-20T15:36:42.157189Z",
     "start_time": "2019-06-20T15:36:41.956841Z"
    }
   },
   "outputs": [],
   "source": [
    "n_neighbors = 6  # Gives same test course + nearest 5\n",
    "\n",
    "def calculate_KNN(df, features, courseIndex, n_neighbors):\n",
    "    \n",
    "    #Defines a KNN and fits our data to it, then gets neigbours of a specific course\n",
    "    \n",
    "    \"\"\"\n",
    "\n",
    "    Arguments:\n",
    "    \n",
    "    df -- DataFrame of all the courses data [\"Code\", \"Name\", \"Content\"]\n",
    "    features -- Matrix of our data's tf-idf values\n",
    "    courseIndex -- Course we want to find its similars\n",
    "    n_neighbors -- Number of neighbors of the test course\n",
    "\n",
    "    Returns:\n",
    "    \n",
    "    NNs -- Course neighbors (similars)\n",
    "    \n",
    "    \"\"\"\n",
    "    \n",
    "    # Define model and fit it to our data\n",
    "    # We don't need to worry about overfitting because we actually want it to learn the data so much :\"D\n",
    "\n",
    "    KNN = NearestNeighbors(n_neighbors, p=2)\n",
    "    KNN.fit(features)\n",
    "    \n",
    "    # Use it to get neighbors\n",
    "    NNs = KNN.kneighbors(features[courseIndex], return_distance=True) \n",
    "\n",
    "    return NNs"
   ]
  },
  {
   "cell_type": "code",
   "execution_count": 27,
   "metadata": {
    "ExecuteTime": {
     "end_time": "2019-06-20T15:36:42.226911Z",
     "start_time": "2019-06-20T15:36:42.158810Z"
    }
   },
   "outputs": [],
   "source": [
    "NNs = calculate_KNN(df, features, courseIndex, n_neighbors)"
   ]
  },
  {
   "cell_type": "code",
   "execution_count": 28,
   "metadata": {
    "ExecuteTime": {
     "end_time": "2019-06-20T15:36:42.296755Z",
     "start_time": "2019-06-20T15:36:42.228366Z"
    }
   },
   "outputs": [
    {
     "data": {
      "text/plain": [
       "(array([[ 0.        ,  1.23241501,  1.2578861 ,  1.34380081,  1.34404315,\n",
       "          1.35055667]]), array([[34, 13, 29, 36, 19, 40]]))"
      ]
     },
     "execution_count": 28,
     "metadata": {},
     "output_type": "execute_result"
    }
   ],
   "source": [
    "#type(NNs[1][0][0])\n",
    "NNs"
   ]
  },
  {
   "cell_type": "markdown",
   "metadata": {},
   "source": [
    "## Define a function to print the nearest neighbors"
   ]
  },
  {
   "cell_type": "code",
   "execution_count": 29,
   "metadata": {
    "ExecuteTime": {
     "end_time": "2019-06-20T15:36:42.364875Z",
     "start_time": "2019-06-20T15:36:42.298295Z"
    }
   },
   "outputs": [],
   "source": [
    "def printNNs(df, NNs, courseIndex):\n",
    "    \n",
    "    # Prints neighbors\n",
    "    \n",
    "    \"\"\"\n",
    "\n",
    "    Arguments:\n",
    "    \n",
    "    df -- DataFrame of all the courses data [\"Code\", \"Name\", \"Content\"]\n",
    "    courseIndex -- Course we want to print its similars\n",
    "    NNs -- Course neighbors (similars)\n",
    "\n",
    "    Returns:\n",
    "    None\n",
    "    \n",
    "    \"\"\"\n",
    "    \n",
    "    print(\"Courses similar to \"+df.iloc[courseIndex][\"Name\"]+\" are:\",'\\n')\n",
    "    for i in range(len(NNs[1][0])):\n",
    "        if i != 0 :\n",
    "            print(df.iloc[NNs[1][0][i]])"
   ]
  },
  {
   "cell_type": "code",
   "execution_count": 30,
   "metadata": {
    "ExecuteTime": {
     "end_time": "2019-06-20T15:36:42.440354Z",
     "start_time": "2019-06-20T15:36:42.366824Z"
    }
   },
   "outputs": [
    {
     "name": "stdout",
     "output_type": "stream",
     "text": [
      "Courses similar to Machine Learning are: \n",
      "\n",
      "Code                                                   CS303\n",
      "Name                                 Artificial Intelligence\n",
      "Content    Definitions of intelligent systems, Optimality...\n",
      "Name: 13, dtype: object\n",
      "Code                                                   CS319\n",
      "Name                          Tools for e-learning Education\n",
      "Content    Overview of principles and tools used in e-Lea...\n",
      "Name: 29, dtype: object\n",
      "Code                                                   CS403\n",
      "Name                                     Distributed Systems\n",
      "Content    Basic distributed systems architecture, Hardwa...\n",
      "Name: 36, dtype: object\n",
      "Code                                                   CS309\n",
      "Name                                    Computing Algorithms\n",
      "Content    Complexity of algorithms, Asymptotic notation,...\n",
      "Name: 19, dtype: object\n",
      "Code                                                   CS407\n",
      "Name                              System Analysis and Design\n",
      "Content    Types of information systems, Information syst...\n",
      "Name: 40, dtype: object\n"
     ]
    }
   ],
   "source": [
    "printNNs(df, NNs, courseIndex)"
   ]
  },
  {
   "cell_type": "markdown",
   "metadata": {},
   "source": [
    "## Define a function to return the nearest neighbors' code\n",
    "### Use with API"
   ]
  },
  {
   "cell_type": "code",
   "execution_count": 31,
   "metadata": {
    "ExecuteTime": {
     "end_time": "2019-06-20T15:36:42.513033Z",
     "start_time": "2019-06-20T15:36:42.442189Z"
    }
   },
   "outputs": [],
   "source": [
    "def returnNNs(df, NNs, courseIndex):\n",
    "    \n",
    "    # Returns neighbors\n",
    "    \n",
    "    \"\"\"\n",
    "\n",
    "    Arguments:\n",
    "    \n",
    "    df -- DataFrame of all the courses data [\"Code\", \"Name\", \"Content\"]\n",
    "    courseIndex -- Course we want to print its similars\n",
    "    NNs -- Course neighbors (similars)\n",
    "\n",
    "    Returns:\n",
    "    \n",
    "    json -- Dictionary that has similar courses' codes\n",
    "    \n",
    "    \"\"\"\n",
    "    \n",
    "    json = []\n",
    "    for i in range(len(NNs[1][0])):\n",
    "        dic_nn = {}\n",
    "        if i != 0 :\n",
    "            dic_nn['code']= df.iloc[NNs[1][0][i]][\"Code\"]\n",
    "            json.append(dic_nn)\n",
    "    return json"
   ]
  },
  {
   "cell_type": "code",
   "execution_count": 32,
   "metadata": {
    "ExecuteTime": {
     "end_time": "2019-06-20T15:36:42.603351Z",
     "start_time": "2019-06-20T15:36:42.514389Z"
    }
   },
   "outputs": [
    {
     "data": {
      "text/plain": [
       "[{'code': 'CS303'},\n",
       " {'code': 'CS319'},\n",
       " {'code': 'CS403'},\n",
       " {'code': 'CS309'},\n",
       " {'code': 'CS407'}]"
      ]
     },
     "execution_count": 32,
     "metadata": {},
     "output_type": "execute_result"
    }
   ],
   "source": [
    "nns = returnNNs(df, NNs, courseIndex)\n",
    "nns"
   ]
  },
  {
   "cell_type": "markdown",
   "metadata": {},
   "source": [
    "## Another Example; Use different course [HCI]"
   ]
  },
  {
   "cell_type": "code",
   "execution_count": 33,
   "metadata": {
    "ExecuteTime": {
     "end_time": "2019-06-20T15:36:42.673004Z",
     "start_time": "2019-06-20T15:36:42.605631Z"
    }
   },
   "outputs": [
    {
     "name": "stdout",
     "output_type": "stream",
     "text": [
      "Courses similar to Introduction to Human-Computer Interaction (HCI) are: \n",
      "\n",
      "Code                                                   CS322\n",
      "Name                    Usability Models and Theories of HCI\n",
      "Content    Computer systems usability, Theoretical founda...\n",
      "Name: 32, dtype: object\n",
      "Code                                                   CS212\n",
      "Name                        Concepts of Programming Language\n",
      "Content    Scheme, Expression evaluation and a simple mod...\n",
      "Name: 9, dtype: object\n",
      "Code                                                   CS214\n",
      "Name                          System Simulation and Modeling\n",
      "Content    Types of systems, Types of models, Discrete an...\n",
      "Name: 10, dtype: object\n",
      "Code                                                   CS401\n",
      "Name                                       Computer Graphics\n",
      "Content    Raster and vector graphics system, Video displ...\n",
      "Name: 35, dtype: object\n",
      "Code                                                   CS406\n",
      "Name                                     Virtual Environment\n",
      "Content    Basic viewing and interrogation functions for ...\n",
      "Name: 39, dtype: object\n"
     ]
    }
   ],
   "source": [
    "NNs2 = calculate_KNN(df, features, 23, n_neighbors)\n",
    "printNNs(df, NNs2, 23)"
   ]
  },
  {
   "cell_type": "markdown",
   "metadata": {},
   "source": [
    "## Another Example; Use different course [C102]"
   ]
  },
  {
   "cell_type": "code",
   "execution_count": 34,
   "metadata": {
    "ExecuteTime": {
     "end_time": "2019-06-20T15:36:42.741746Z",
     "start_time": "2019-06-20T15:36:42.674368Z"
    }
   },
   "outputs": [
    {
     "name": "stdout",
     "output_type": "stream",
     "text": [
      "Courses similar to Computer Programming(1) are: \n",
      "\n",
      "Code                                                   CS212\n",
      "Name                        Concepts of Programming Language\n",
      "Content    Scheme, Expression evaluation and a simple mod...\n",
      "Name: 9, dtype: object\n",
      "Code                                                  CS201 \n",
      "Name                                 Computer Programming(2)\n",
      "Content    Functions and parameter passing, Simple I/O, E...\n",
      "Name: 2, dtype: object\n",
      "Code                                                    M150\n",
      "Name                   Programming and Computer Applications\n",
      "Content    FORTRAN Programming language: Constants and va...\n",
      "Name: 0, dtype: object\n",
      "Code                                                   CS314\n",
      "Name                                    Parallel Computation\n",
      "Content    Parallel configurations and paradigms, Speedup...\n",
      "Name: 24, dtype: object\n",
      "Code                                                   CS309\n",
      "Name                                    Computing Algorithms\n",
      "Content    Complexity of algorithms, Asymptotic notation,...\n",
      "Name: 19, dtype: object\n"
     ]
    }
   ],
   "source": [
    "NNs3 = calculate_KNN(df, features, 1, n_neighbors)\n",
    "printNNs(df, NNs3, 1)"
   ]
  },
  {
   "cell_type": "markdown",
   "metadata": {},
   "source": [
    "### Pretty good results! :D"
   ]
  },
  {
   "cell_type": "markdown",
   "metadata": {},
   "source": [
    "# Now let's try to get similarity with cosine_similarity, as KNN uses distances, would it be better? let's see."
   ]
  },
  {
   "cell_type": "markdown",
   "metadata": {},
   "source": [
    "# Cosine Similarity\n",
    "Cosine similarity is a metric used to measure how similar the documents are irrespective of their size. \n",
    "\n",
    "Mathematically, it measures the cosine of the angle between two vectors projected in a multi-dimensional space. \n",
    "\n",
    "The cosine similarity is advantageous because even if the two similar documents are far apart by the Euclidean distance (due to the size of the document), chances are they may still be oriented closer together. \n",
    "### The smaller the angle, higher the cosine similarity.\n",
    "     angle = 90 cos= 0\n",
    "     angle = 0  cos= 1\n",
    "\n",
    "![Sorry, couldn't find image](./images/cosSim.png \"Cosine Similarity\")\n",
    "![Sorry, couldn't find image](./images/cosSim1.png \"Cosine Similarity\")\n",
    "\n",
    "## Calculated by:\n",
    "![Sorry, couldn't find image](./images/cosSim2.png \"Cosine Similarity Law\")\n"
   ]
  },
  {
   "cell_type": "markdown",
   "metadata": {},
   "source": [
    "## Imports"
   ]
  },
  {
   "cell_type": "code",
   "execution_count": 35,
   "metadata": {
    "ExecuteTime": {
     "end_time": "2019-06-20T15:36:42.806400Z",
     "start_time": "2019-06-20T15:36:42.743457Z"
    }
   },
   "outputs": [],
   "source": [
    "from sklearn.metrics.pairwise import cosine_similarity"
   ]
  },
  {
   "cell_type": "markdown",
   "metadata": {},
   "source": [
    "## Define a function to calculate cosine similarities"
   ]
  },
  {
   "cell_type": "code",
   "execution_count": 36,
   "metadata": {
    "ExecuteTime": {
     "end_time": "2019-06-20T15:36:42.876634Z",
     "start_time": "2019-06-20T15:36:42.807866Z"
    }
   },
   "outputs": [],
   "source": [
    "def calculate_cosSim(df, features, courseIndex, n_neighbors):\n",
    "    \n",
    "    # Calculate cosine similarity\n",
    "    \n",
    "    \"\"\"\n",
    "\n",
    "    Arguments:\n",
    "    \n",
    "    df -- DataFrame of all the courses data [\"Code\", \"Name\", \"Content\"]\n",
    "    features -- Matrix of our data's tf-idf values\n",
    "    courseIndex -- Course we want to find its similars\n",
    "    n_neighbors -- Number of neighbors of the test course\n",
    "\n",
    "    Returns:\n",
    "    \n",
    "    similarities -- List of similars to the test course\n",
    "    \n",
    "    \"\"\"\n",
    "    \n",
    "    similarities = []\n",
    "    for f in features:\n",
    "        #print(cosine_similarity(features[courseIndex],f))\n",
    "        similarities.append(float(cosine_similarity(features[courseIndex],f)))\n",
    "\n",
    "    # As cosine similarity is opposite to distance; (i.e. The more is better)\n",
    "    # We sort list indices accendingly, then reverse it\n",
    "    similarities = list(reversed(np.argsort(similarities)))\n",
    "    \n",
    "    return similarities"
   ]
  },
  {
   "cell_type": "code",
   "execution_count": 37,
   "metadata": {
    "ExecuteTime": {
     "end_time": "2019-06-20T15:36:42.964236Z",
     "start_time": "2019-06-20T15:36:42.878240Z"
    },
    "scrolled": true
   },
   "outputs": [],
   "source": [
    "similarities = calculate_cosSim(df, features, courseIndex, n_neighbors)"
   ]
  },
  {
   "cell_type": "markdown",
   "metadata": {},
   "source": [
    "## Sanity check\n",
    "#### Ensure we calculated similarities to all documents"
   ]
  },
  {
   "cell_type": "code",
   "execution_count": 38,
   "metadata": {
    "ExecuteTime": {
     "end_time": "2019-06-20T15:36:43.087889Z",
     "start_time": "2019-06-20T15:36:42.965692Z"
    }
   },
   "outputs": [
    {
     "name": "stdout",
     "output_type": "stream",
     "text": [
      "[34, 13, 29, 36, 19, 40, 32, 1, 24, 30, 37, 17, 7, 28, 16, 21, 38, 31, 33, 43, 41, 26, 18, 10, 20, 9, 11, 0, 12, 4, 6, 39, 35, 8, 2, 23, 25, 22, 3, 15, 27, 14, 5, 42]\n",
      "\n",
      " length=  44\n"
     ]
    }
   ],
   "source": [
    "print(similarities)\n",
    "print(\"\\n\",\"length= \",len(similarities))"
   ]
  },
  {
   "cell_type": "markdown",
   "metadata": {},
   "source": [
    "## Define a function to print the similar courses"
   ]
  },
  {
   "cell_type": "code",
   "execution_count": 39,
   "metadata": {
    "ExecuteTime": {
     "end_time": "2019-06-20T15:36:43.167877Z",
     "start_time": "2019-06-20T15:36:43.089413Z"
    },
    "code_folding": []
   },
   "outputs": [],
   "source": [
    "def printSimilars(df, similarities, courseIndex, n_neighbors):\n",
    "    \n",
    "    # Prints similars\n",
    "    \n",
    "    \"\"\"\n",
    "\n",
    "    Arguments:\n",
    "    \n",
    "    df -- DataFrame of all the courses data [\"Code\", \"Name\", \"Content\"]\n",
    "    courseIndex -- Course we want to print its similars\n",
    "    similarities -- Course similars\n",
    "    n_neighbors -- Number of similars to the test course\n",
    "    \n",
    "    Returns:\n",
    "    None\n",
    "    \n",
    "    \"\"\"\n",
    "    print(\"Courses similar to \"+df.iloc[courseIndex][\"Name\"]+\" are:\",'\\n')\n",
    "    \n",
    "    for i in range(n_neighbors):\n",
    "        if similarities[i] != courseIndex:\n",
    "            print(df.iloc[similarities[i]])"
   ]
  },
  {
   "cell_type": "code",
   "execution_count": 40,
   "metadata": {
    "ExecuteTime": {
     "end_time": "2019-06-20T15:36:43.283451Z",
     "start_time": "2019-06-20T15:36:43.169192Z"
    }
   },
   "outputs": [
    {
     "name": "stdout",
     "output_type": "stream",
     "text": [
      "Courses similar to Machine Learning are: \n",
      "\n",
      "Code                                                   CS303\n",
      "Name                                 Artificial Intelligence\n",
      "Content    Definitions of intelligent systems, Optimality...\n",
      "Name: 13, dtype: object\n",
      "Code                                                   CS319\n",
      "Name                          Tools for e-learning Education\n",
      "Content    Overview of principles and tools used in e-Lea...\n",
      "Name: 29, dtype: object\n",
      "Code                                                   CS403\n",
      "Name                                     Distributed Systems\n",
      "Content    Basic distributed systems architecture, Hardwa...\n",
      "Name: 36, dtype: object\n",
      "Code                                                   CS309\n",
      "Name                                    Computing Algorithms\n",
      "Content    Complexity of algorithms, Asymptotic notation,...\n",
      "Name: 19, dtype: object\n",
      "Code                                                   CS407\n",
      "Name                              System Analysis and Design\n",
      "Content    Types of information systems, Information syst...\n",
      "Name: 40, dtype: object\n"
     ]
    }
   ],
   "source": [
    "printSimilars(df, similarities, courseIndex, n_neighbors)"
   ]
  },
  {
   "cell_type": "markdown",
   "metadata": {},
   "source": [
    "## Define a function to return the most similars' code\n",
    "### Use with API"
   ]
  },
  {
   "cell_type": "code",
   "execution_count": 41,
   "metadata": {
    "ExecuteTime": {
     "end_time": "2019-06-20T15:36:43.361573Z",
     "start_time": "2019-06-20T15:36:43.284866Z"
    }
   },
   "outputs": [],
   "source": [
    "def returnSimilars(df, similarities, courseIndex, n_neighbors):\n",
    "    \n",
    "    # Returns similars\n",
    "    \n",
    "    \"\"\"\n",
    "\n",
    "    Arguments:\n",
    "    \n",
    "    df -- DataFrame of all the courses data [\"Code\", \"Name\", \"Content\"]\n",
    "    courseIndex -- Course we want to print its similars\n",
    "    similarities -- Course similars\n",
    "    n_neighbors -- Number of similars to the test course\n",
    "    \n",
    "    Returns:\n",
    "    \n",
    "    json -- dictionary that has similar courses' codes\n",
    "    \n",
    "    \"\"\"\n",
    "    \n",
    "    json = []\n",
    "    \n",
    "    for i in range(n_neighbors):\n",
    "        dic_nn = {}\n",
    "        if similarities[i] != courseIndex :\n",
    "            dic_nn['code']= df.iloc[similarities[i]][\"Code\"]\n",
    "            json.append(dic_nn)\n",
    "    \n",
    "    return json"
   ]
  },
  {
   "cell_type": "code",
   "execution_count": 42,
   "metadata": {
    "ExecuteTime": {
     "end_time": "2019-06-20T15:36:43.491540Z",
     "start_time": "2019-06-20T15:36:43.363833Z"
    }
   },
   "outputs": [
    {
     "data": {
      "text/plain": [
       "[{'code': 'CS303'},\n",
       " {'code': 'CS319'},\n",
       " {'code': 'CS403'},\n",
       " {'code': 'CS309'},\n",
       " {'code': 'CS407'}]"
      ]
     },
     "execution_count": 42,
     "metadata": {},
     "output_type": "execute_result"
    }
   ],
   "source": [
    "sims = returnSimilars(df, similarities, courseIndex, n_neighbors)\n",
    "sims"
   ]
  },
  {
   "cell_type": "markdown",
   "metadata": {},
   "source": [
    "### Looks like they both are similar, both give the same results in our case"
   ]
  },
  {
   "cell_type": "markdown",
   "metadata": {},
   "source": [
    "#  \n",
    "#  \n",
    "# Second Section: Job Recommendation based on student's interest"
   ]
  },
  {
   "cell_type": "markdown",
   "metadata": {},
   "source": [
    "### We will use spaCy for that one, it's a library for NLP\n",
    "One of its advantages is that it has pre-trained word vectors, which can help get better results\n",
    "Let's try it with the content recommendation problem first, see if it would give us better results\n",
    "\n",
    "## What are word vectors?\n",
    "Word vectors are simply vectors of numbers that represent the meaning of a word.\n",
    "\n",
    "Traditional approaches to NLP, such as one-hot encoding and bag-of-words models (i.e. using dummy variables to represent the presence or absence of a word in an observation (e.g. a sentence)), whilst useful for some machine learning tasks but they **do not capture information about a word’s meaning or context**.\n",
    "\n",
    "This means that potential relationships, such as contextual closeness, are not captured across collections of words. \n",
    "\n",
    "For example, a one-hot encoding cannot capture simple relationships, such as determining that the words “dog” and “cat” both refer to animals that are often discussed in the context of household pets. \n",
    "\n",
    "Such encodings often provide sufficient baselines for simple NLP tasks (for example, email spam classifiers), but lack the sophistication for more complex tasks such as translation and speech recognition.\n",
    "\n",
    "![Sorry, Couldn't find image](./images/wVec.png \"Word Vectors\")\n",
    "\n",
    "#### Having words represented like that, helps us alot, as their visualization be something like this:\n",
    "    Each word vector is visualized in a multi-dimentional space like that\n",
    "  \n",
    "\n",
    "![Sorry, Couldn't find image](./images/wVec3.png \"Word VectorsVisualization\")\n",
    "\n",
    "\n",
    "\n",
    "#### There's a famous example regarding this topic:\n",
    "    king — man + woman = queen\n",
    "    It means: A man to king is like a woman to?\n",
    "   #### The answer is Queen!\n",
    "    \n",
    "    We get Queen by subtracting vector of man from king, then subtract woman from all vectors, the answer is the vector which gives the same result\n",
    "\n",
    "<img src=\"./images/wVec4.jpg\" height=\"400px\" width=\"400px\">\n",
    "\n"
   ]
  },
  {
   "cell_type": "markdown",
   "metadata": {},
   "source": [
    "## Imports"
   ]
  },
  {
   "cell_type": "code",
   "execution_count": 43,
   "metadata": {
    "ExecuteTime": {
     "end_time": "2019-06-20T15:36:44.128066Z",
     "start_time": "2019-06-20T15:36:43.493258Z"
    }
   },
   "outputs": [],
   "source": [
    "import spacy\n",
    "import re"
   ]
  },
  {
   "cell_type": "code",
   "execution_count": 44,
   "metadata": {
    "ExecuteTime": {
     "end_time": "2019-06-20T15:36:51.671496Z",
     "start_time": "2019-06-20T15:36:44.129589Z"
    }
   },
   "outputs": [],
   "source": [
    "nlp = spacy.load('en_core_web_lg')"
   ]
  },
  {
   "cell_type": "code",
   "execution_count": 45,
   "metadata": {
    "ExecuteTime": {
     "end_time": "2019-06-20T15:36:51.679635Z",
     "start_time": "2019-06-20T15:36:51.672869Z"
    }
   },
   "outputs": [
    {
     "data": {
      "text/plain": [
       "'Concept learning, Classification and classifiers, Supervised and unsupervised learning, Instance-based learning (k-nearest neighbor), Clustering, Learning using decision trees, Neural networks, Perception networks, Multi-layer perception networks, Self-organizing maps, Hopfield networks, Radial basis function networks, Fuzzy sets and systems, Fuzzy sets, Learning through fuzzy logic, Fuzzy inference, Fuzzy modeling and optimization, Learning based on rough sets, Evolutionary algorithms, Genetic algorithms, Evolutionary strategies, Genetic programming, Ant colony optimization algorithms, Particle swarm optimization, Hybrid intelligent methods, Neuro-fuzzy systems, Neuro-symbolic systems, Genetic algorithmsbased hybrid systems, Other hybrid learning approaches, Inductive logic programming, Inductive learning, Applications of ilp to real-world problems, Ensemble methods, Bagging, Boosting, Methods of combining classifiers, Classifier diversity, Topologies of multi-classifier systems, Evaluating models and algorithms, Computational learning theory, Model selection, Feature selection, Roc analysis, Pac learn-ability, The vapnik-chervonenkis dimension.'"
      ]
     },
     "execution_count": 45,
     "metadata": {},
     "output_type": "execute_result"
    }
   ],
   "source": [
    "df[\"Content\"][courseIndex]"
   ]
  },
  {
   "cell_type": "markdown",
   "metadata": {},
   "source": [
    "## We need to preprocess it"
   ]
  },
  {
   "cell_type": "code",
   "execution_count": 46,
   "metadata": {
    "ExecuteTime": {
     "end_time": "2019-06-20T15:36:51.848859Z",
     "start_time": "2019-06-20T15:36:51.681567Z"
    }
   },
   "outputs": [],
   "source": [
    "def preprocess(text):\n",
    "    \n",
    "    # Preproces text to make tokenization process easier\n",
    "    \n",
    "    \"\"\"\n",
    "\n",
    "    Arguments:\n",
    "    \n",
    "    text -- Text we want to preprocess\n",
    "    \n",
    "    Returns:\n",
    "    \n",
    "    text -- Preprocessed text\n",
    "    \n",
    "    \"\"\"\n",
    "    \n",
    "    text = str(text)\n",
    "    text = text.lower()\n",
    "\n",
    "    \n",
    "    text = re.sub(r\"[^A-Za-z0-9^,!.\\/'+-=]\", \" \", text)\n",
    "    text = re.sub(r\"what's\", \"what is \", text)\n",
    "    text = re.sub(r\"\\'s\", \" \", text)\n",
    "    text = re.sub(r\"\\'ve\", \" have \", text)\n",
    "    text = re.sub(r\"can't\", \"cannot \", text)\n",
    "    text = re.sub(r\"n't\", \" not \", text)\n",
    "    text = re.sub(r\"i'm\", \"i am \", text)\n",
    "    text = re.sub(r\"\\'re\", \" are \", text)\n",
    "    text = re.sub(r\"\\'d\", \" would \", text)\n",
    "    text = re.sub(r\"\\'ll\", \" will \", text)\n",
    "    text = re.sub(r\",\", \" \", text)\n",
    "    text = re.sub(r\"\\.\", \" \", text)\n",
    "    text = re.sub(r\"!\", \" ! \", text)\n",
    "    text = re.sub(r\"\\/\", \" \", text)\n",
    "    text = re.sub(r\"\\^\", \" ^ \", text)\n",
    "    text = re.sub(r\"\\+\", \" + \", text)\n",
    "    text = re.sub(r\"\\-\", \" - \", text)\n",
    "    text = re.sub(r\"\\=\", \" = \", text)\n",
    "    text = re.sub(r\"'\", \" \", text)\n",
    "    text = re.sub(r\"  \", \" \", text)\n",
    "    text = re.sub(r\":\", \" : \", text)\n",
    "    text = re.sub(r\" e g \", \" eg \", text)\n",
    "    text = re.sub(r\"e - mail\", \"email\", text)\n",
    "    text = re.sub(r\"e-mail\", \"email\", text)\n",
    "            \n",
    "    return text"
   ]
  },
  {
   "cell_type": "code",
   "execution_count": 47,
   "metadata": {
    "ExecuteTime": {
     "end_time": "2019-06-20T15:36:51.937461Z",
     "start_time": "2019-06-20T15:36:51.850125Z"
    }
   },
   "outputs": [
    {
     "name": "stdout",
     "output_type": "stream",
     "text": [
      "concept learning classification and classifiers supervised and unsupervised learning instance - based learning k - nearest neighbor  clustering learning using decision trees neural networks perception networks multi - layer perception networks self - organizing maps hopfield networks radial basis function networks fuzzy sets and systems fuzzy sets learning through fuzzy logic fuzzy inference fuzzy modeling and optimization learning based on rough sets evolutionary algorithms genetic algorithms evolutionary strategies genetic programming ant colony optimization algorithms particle swarm optimization hybrid intelligent methods neuro - fuzzy systems neuro - symbolic systems genetic algorithmsbased hybrid systems other hybrid learning approaches inductive logic programming inductive learning applications of ilp to real - world problems ensemble methods bagging boosting methods of combining classifiers classifier diversity topologies of multi - classifier systems evaluating models and algorithms computational learning theory model selection feature selection roc analysis pac learn - ability the vapnik - chervonenkis dimension \n"
     ]
    }
   ],
   "source": [
    "print(preprocess(df[\"Content\"][courseIndex]))"
   ]
  },
  {
   "cell_type": "markdown",
   "metadata": {},
   "source": [
    "### Check"
   ]
  },
  {
   "cell_type": "code",
   "execution_count": 48,
   "metadata": {
    "ExecuteTime": {
     "end_time": "2019-06-20T15:36:52.368478Z",
     "start_time": "2019-06-20T15:36:51.939064Z"
    }
   },
   "outputs": [
    {
     "name": "stdout",
     "output_type": "stream",
     "text": [
      "Machine Learning With Machine Learning =  1.0\n",
      "Machine Learning With Artificial Intelligence =  0.950132997388\n",
      "Machine Learning With Network and Internet Programming =  0.803797364475\n"
     ]
    }
   ],
   "source": [
    "doc1 = nlp(\"u'\" + preprocess(df[\"Content\"][34]) + \"'\")\n",
    "doc2 = nlp(\"u'\" + preprocess(df[\"Content\"][13]) + \"'\")\n",
    "doc3 = nlp(\"u'\" + preprocess(df[\"Content\"][8]) + \"'\")\n",
    "print(df.iloc[courseIndex][\"Name\"] + \" With \" + df.iloc[34][\"Name\"]+ \" = \", doc1.similarity(doc1))\n",
    "print(df.iloc[courseIndex][\"Name\"] + \" With \" + df.iloc[13][\"Name\"]+ \" = \",doc1.similarity(doc2))\n",
    "print(df.iloc[courseIndex][\"Name\"] + \" With \" + df.iloc[8][\"Name\"]+ \" = \",doc1.similarity(doc3))"
   ]
  },
  {
   "cell_type": "markdown",
   "metadata": {},
   "source": [
    "### Seems good"
   ]
  },
  {
   "cell_type": "code",
   "execution_count": 49,
   "metadata": {
    "ExecuteTime": {
     "end_time": "2019-06-20T15:36:52.392674Z",
     "start_time": "2019-06-20T15:36:52.370399Z"
    }
   },
   "outputs": [],
   "source": [
    "def calculateSimWithSpaCy(nlp, df, courseIndex, n=6):\n",
    "    \n",
    "    # Calculate similarity using spaCy\n",
    "    \n",
    "    \"\"\"\n",
    "\n",
    "    Arguments:\n",
    "    \n",
    "    df -- DataFrame of all the courses data [\"Code\", \"Name\", \"Content\"]\n",
    "    courseIndex -- Course we want to print its similars\n",
    "    n -- Number of similars we want to get\n",
    "    \n",
    "    nlp -- English multi-task CNN model trained on OntoNotes, \n",
    "    with GloVe vectors trained on Common Crawl. \n",
    "    Assigns word vectors, context-specific token vectors,\n",
    "    POS tags, dependency parse and named entities.\n",
    "    \n",
    "    Returns:\n",
    "    \n",
    "    s[:n+1] -- Subset of similarities list, the number of similars we previously specified\n",
    "    \n",
    "    \"\"\"\n",
    "    \n",
    "    s = []\n",
    "    doc1 = nlp(\"u'\" + preprocess(df[\"Content\"][courseIndex]) + \"'\")\n",
    "    #print(len(df))\n",
    "    for i in range(len(df)):\n",
    "        if i != courseIndex:\n",
    "            doc2 = nlp(\"u'\" + preprocess(df[\"Content\"][i]) + \"'\")\n",
    "            s.append(doc1.similarity(doc2))\n",
    "        else:\n",
    "            continue\n",
    "    \n",
    "    s = list(reversed(np.argsort(s)))\n",
    "    return s[:n+1]      # we add 1 because we skipped the test course"
   ]
  },
  {
   "cell_type": "code",
   "execution_count": 50,
   "metadata": {
    "ExecuteTime": {
     "end_time": "2019-06-20T15:36:53.116296Z",
     "start_time": "2019-06-20T15:36:52.395177Z"
    }
   },
   "outputs": [
    {
     "data": {
      "text/plain": [
       "[13, 1, 32, 10, 19, 24]"
      ]
     },
     "execution_count": 50,
     "metadata": {},
     "output_type": "execute_result"
    }
   ],
   "source": [
    "similars = calculateSimWithSpaCy(nlp, df, courseIndex, 5)\n",
    "similars"
   ]
  },
  {
   "cell_type": "markdown",
   "metadata": {},
   "source": [
    "## Print similar courses with SpaCy\n",
    "### Call the previous print function as they may take the same parameters"
   ]
  },
  {
   "cell_type": "code",
   "execution_count": 51,
   "metadata": {
    "ExecuteTime": {
     "end_time": "2019-06-20T15:36:53.125888Z",
     "start_time": "2019-06-20T15:36:53.117613Z"
    }
   },
   "outputs": [
    {
     "name": "stdout",
     "output_type": "stream",
     "text": [
      "Courses similar to Machine Learning are: \n",
      "\n",
      "Code                                                   CS303\n",
      "Name                                 Artificial Intelligence\n",
      "Content    Definitions of intelligent systems, Optimality...\n",
      "Name: 13, dtype: object\n",
      "Code                                                  CS102 \n",
      "Name                                 Computer Programming(1)\n",
      "Content    Problem-solving strategies, Debugging strategi...\n",
      "Name: 1, dtype: object\n",
      "Code                                                   CS322\n",
      "Name                    Usability Models and Theories of HCI\n",
      "Content    Computer systems usability, Theoretical founda...\n",
      "Name: 32, dtype: object\n",
      "Code                                                   CS214\n",
      "Name                          System Simulation and Modeling\n",
      "Content    Types of systems, Types of models, Discrete an...\n",
      "Name: 10, dtype: object\n",
      "Code                                                   CS309\n",
      "Name                                    Computing Algorithms\n",
      "Content    Complexity of algorithms, Asymptotic notation,...\n",
      "Name: 19, dtype: object\n",
      "Code                                                   CS314\n",
      "Name                                    Parallel Computation\n",
      "Content    Parallel configurations and paradigms, Speedup...\n",
      "Name: 24, dtype: object\n"
     ]
    }
   ],
   "source": [
    "printSimilars(df, similars, courseIndex, n_neighbors)"
   ]
  },
  {
   "cell_type": "markdown",
   "metadata": {},
   "source": [
    "## Return similar courses with SpaCy\n",
    "### For API"
   ]
  },
  {
   "cell_type": "code",
   "execution_count": 52,
   "metadata": {
    "ExecuteTime": {
     "end_time": "2019-06-20T15:36:53.199678Z",
     "start_time": "2019-06-20T15:36:53.127885Z"
    }
   },
   "outputs": [
    {
     "data": {
      "text/plain": [
       "[{'code': 'CS303'},\n",
       " {'code': 'CS102 '},\n",
       " {'code': 'CS322'},\n",
       " {'code': 'CS214'},\n",
       " {'code': 'CS309'},\n",
       " {'code': 'CS314'}]"
      ]
     },
     "execution_count": 52,
     "metadata": {},
     "output_type": "execute_result"
    }
   ],
   "source": [
    "sspcy = returnSimilars(df, similars, courseIndex, n_neighbors) \n",
    "sspcy"
   ]
  },
  {
   "cell_type": "markdown",
   "metadata": {},
   "source": [
    "# We conclude that the KNN is the best"
   ]
  },
  {
   "cell_type": "markdown",
   "metadata": {},
   "source": [
    "#  \n",
    "#   "
   ]
  },
  {
   "cell_type": "markdown",
   "metadata": {},
   "source": [
    "# Job Recommendation"
   ]
  },
  {
   "cell_type": "markdown",
   "metadata": {},
   "source": [
    "## Implement a function to return similar field job to a favourite course"
   ]
  },
  {
   "cell_type": "code",
   "execution_count": 53,
   "metadata": {
    "ExecuteTime": {
     "end_time": "2019-06-20T15:36:53.264871Z",
     "start_time": "2019-06-20T15:36:53.201735Z"
    },
    "code_folding": []
   },
   "outputs": [],
   "source": [
    "def getJob(df, courseIndex):\n",
    "    \n",
    "    # Get similar job to course using spaCy\n",
    "    \n",
    "    \"\"\"\n",
    "\n",
    "    Arguments:\n",
    "    \n",
    "    df -- DataFrame of all the courses data [\"Code\", \"Name\", \"Content\"]\n",
    "    courseIndex -- Course we want to get its similar job\n",
    "    \n",
    "    Returns:\n",
    "    \n",
    "    fields[s[0]] -- Name of the job that has maximum similarity to the test course\n",
    "    it's the first one in the list as they are sorted descendingly\n",
    "    \n",
    "    \"\"\"\n",
    "    \n",
    "    fields = [\n",
    "        'Software Developer',\n",
    "        'Database System Administrator',\n",
    "        'Hardware Engineer',\n",
    "        'Network Architect',\n",
    "        'Web and Internet Developer',\n",
    "        'Big Data Engineer',\n",
    "        'Data Scientist',\n",
    "        'Security Specialist',\n",
    "        'Machine Learning Engineer',\n",
    "        'Computer Graphics Designer',\n",
    "        'Computer Vision Engineer',\n",
    "        'Software Quality Testing'\n",
    "    ]\n",
    "    s = []\n",
    "    doc1 = nlp(\"u'\" + preprocess(df.iloc[courseIndex][\"Name\"]+ \"'\"))\n",
    "    #print(len(df))\n",
    "    for i in range(len(fields)):\n",
    "            doc2 = nlp(\"u'\" + preprocess(fields[i]) + \"'\")\n",
    "            s.append(doc1.similarity(doc2))\n",
    "\n",
    "    \n",
    "    s = list(reversed(np.argsort(s)))\n",
    "    #print(s)\n",
    "    return fields[s[0]]"
   ]
  },
  {
   "cell_type": "code",
   "execution_count": 54,
   "metadata": {
    "ExecuteTime": {
     "end_time": "2019-06-20T15:36:53.431874Z",
     "start_time": "2019-06-20T15:36:53.266231Z"
    }
   },
   "outputs": [
    {
     "name": "stdout",
     "output_type": "stream",
     "text": [
      "Machine Learning Engineer\n"
     ]
    }
   ],
   "source": [
    "print(getJob(df, courseIndex))  #ML"
   ]
  },
  {
   "cell_type": "code",
   "execution_count": 55,
   "metadata": {
    "ExecuteTime": {
     "end_time": "2019-06-20T15:36:53.541037Z",
     "start_time": "2019-06-20T15:36:53.433706Z"
    }
   },
   "outputs": [
    {
     "name": "stdout",
     "output_type": "stream",
     "text": [
      "Database System Administrator\n"
     ]
    }
   ],
   "source": [
    "print(getJob(df, 12))  #Database"
   ]
  },
  {
   "cell_type": "code",
   "execution_count": 56,
   "metadata": {
    "ExecuteTime": {
     "end_time": "2019-06-20T15:36:53.634101Z",
     "start_time": "2019-06-20T15:36:53.543083Z"
    }
   },
   "outputs": [
    {
     "name": "stdout",
     "output_type": "stream",
     "text": [
      "Computer Graphics Designer\n"
     ]
    }
   ],
   "source": [
    "print(getJob(df, 35))  #Graphics"
   ]
  },
  {
   "cell_type": "code",
   "execution_count": 57,
   "metadata": {
    "ExecuteTime": {
     "end_time": "2019-06-20T15:36:53.721225Z",
     "start_time": "2019-06-20T15:36:53.635428Z"
    }
   },
   "outputs": [
    {
     "name": "stdout",
     "output_type": "stream",
     "text": [
      "Big Data Engineer\n"
     ]
    }
   ],
   "source": [
    "print(getJob(df, 33))  #IR"
   ]
  },
  {
   "cell_type": "code",
   "execution_count": 58,
   "metadata": {
    "ExecuteTime": {
     "end_time": "2019-06-20T15:36:53.812376Z",
     "start_time": "2019-06-20T15:36:53.722740Z"
    }
   },
   "outputs": [
    {
     "name": "stdout",
     "output_type": "stream",
     "text": [
      "Computer Vision Engineer\n"
     ]
    }
   ],
   "source": [
    "print(getJob(df, 37))  #Robotics"
   ]
  },
  {
   "cell_type": "code",
   "execution_count": 59,
   "metadata": {
    "ExecuteTime": {
     "end_time": "2019-06-20T15:36:53.899168Z",
     "start_time": "2019-06-20T15:36:53.813765Z"
    }
   },
   "outputs": [
    {
     "name": "stdout",
     "output_type": "stream",
     "text": [
      "Software Quality Testing\n"
     ]
    }
   ],
   "source": [
    "print(getJob(df, 22))  #Testing"
   ]
  },
  {
   "cell_type": "code",
   "execution_count": 60,
   "metadata": {
    "ExecuteTime": {
     "end_time": "2019-06-20T15:36:53.992020Z",
     "start_time": "2019-06-20T15:36:53.900403Z"
    }
   },
   "outputs": [
    {
     "name": "stdout",
     "output_type": "stream",
     "text": [
      "Web and Internet Developer\n"
     ]
    }
   ],
   "source": [
    "print(getJob(df, 8))  #Web"
   ]
  },
  {
   "cell_type": "markdown",
   "metadata": {
    "ExecuteTime": {
     "end_time": "2019-06-20T10:01:21.026493Z",
     "start_time": "2019-06-20T10:01:20.922076Z"
    }
   },
   "source": [
    "### It gives reasonable results, but we sure need a more complex model than that to generalize to every job title exists."
   ]
  },
  {
   "cell_type": "markdown",
   "metadata": {},
   "source": [
    "# We tried to make use of all the data we had as much as possible, feel free to ask any questions!"
   ]
  },
  {
   "cell_type": "markdown",
   "metadata": {},
   "source": [
    "## References\n",
    "\n",
    "### Libraries\n",
    "- Numpy: https://www.numpy.org/\n",
    "- Pandas: https://pandas.pydata.org/\n",
    "- Matplotlib: Python plotting: https://matplotlib.org/\n",
    "- TfidfVectorizer: https://scikit-learn.org/stable/modules/generated/sklearn.feature_extraction.text.TfidfVectorizer.html\n",
    "- CountVectorizer https://scikit-learn.org/stable/modules/generated/sklearn.feature_extraction.text.CountVectorizer.html#sklearn.feature_extraction.text.CountVectorizer\n",
    "- K-means: https://scikit-learn.org/stable/modules/generated/sklearn.cluster.KMeans.html\n",
    "- KNN: https://scikit-learn.org/stable/modules/neighbors.html\n",
    "- Cosine similarity:https://scikit-learn.org/stable/modules/generated/sklearn.metrics.pairwise.cosine_similarity.html\n",
    "- spaCy: https://spacy.io/\n",
    "\n",
    "### Papers\n",
    "- An Effective TF/IDF-based Text-to-Text Semantic Similarity Measure for Text Classification:  https://www.researchgate.net/publication/265417636_An_Effective_TFIDF-based_Text-to-Text_Semantic_Similarity_Measure_for_Text_Classification\n",
    "- Document clustering: TF-IDF approach: https://ieeexplore.ieee.org/abstract/document/7754750/references#references\n",
    "- Improving Distributional Similarity with Lessons Learned from Word Embeddings: https://www.mitpressjournals.org/doi/abs/10.1162/tacl_a_00134"
   ]
  }
 ],
 "metadata": {
  "kernelspec": {
   "display_name": "Python 3",
   "language": "python",
   "name": "python3"
  },
  "language_info": {
   "codemirror_mode": {
    "name": "ipython",
    "version": 3
   },
   "file_extension": ".py",
   "mimetype": "text/x-python",
   "name": "python",
   "nbconvert_exporter": "python",
   "pygments_lexer": "ipython3",
   "version": "3.6.8"
  }
 },
 "nbformat": 4,
 "nbformat_minor": 2
}
